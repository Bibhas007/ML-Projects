{
  "nbformat": 4,
  "nbformat_minor": 0,
  "metadata": {
    "colab": {
      "name": "Text Processing and Mining (NLP) .ipynb",
      "provenance": [],
      "collapsed_sections": [],
      "authorship_tag": "ABX9TyOHu6aTGbfzUrbXLIT67QkB",
      "include_colab_link": true
    },
    "kernelspec": {
      "name": "python3",
      "display_name": "Python 3"
    }
  },
  "cells": [
    {
      "cell_type": "markdown",
      "metadata": {
        "id": "view-in-github",
        "colab_type": "text"
      },
      "source": [
        "<a href=\"https://colab.research.google.com/github/Bibhas007/ML-Projects/blob/main/Text_Processing_and_Mining_(NLP)_.ipynb\" target=\"_parent\"><img src=\"https://colab.research.google.com/assets/colab-badge.svg\" alt=\"Open In Colab\"/></a>"
      ]
    },
    {
      "cell_type": "code",
      "metadata": {
        "id": "QLVho8aYvnrw"
      },
      "source": [
        "import pandas as pd\n",
        "import numpy as np\n",
        "import spacy\n",
        "import csv"
      ],
      "execution_count": null,
      "outputs": []
    },
    {
      "cell_type": "code",
      "metadata": {
        "id": "GK83AwmmDTUH"
      },
      "source": [
        "from spacy.lang.en.stop_words import STOP_WORDS as stopwords"
      ],
      "execution_count": null,
      "outputs": []
    },
    {
      "cell_type": "code",
      "metadata": {
        "colab": {
          "base_uri": "https://localhost:8080/",
          "height": 197
        },
        "id": "-cxlt7OuD9Gd",
        "outputId": "c20acd5e-2709-4057-8236-84d19a557246"
      },
      "source": [
        "df = pd.read_excel('/content/twitter.xlsx')\n",
        "df.head()"
      ],
      "execution_count": null,
      "outputs": [
        {
          "output_type": "execute_result",
          "data": {
            "text/html": [
              "<div>\n",
              "<style scoped>\n",
              "    .dataframe tbody tr th:only-of-type {\n",
              "        vertical-align: middle;\n",
              "    }\n",
              "\n",
              "    .dataframe tbody tr th {\n",
              "        vertical-align: top;\n",
              "    }\n",
              "\n",
              "    .dataframe thead th {\n",
              "        text-align: right;\n",
              "    }\n",
              "</style>\n",
              "<table border=\"1\" class=\"dataframe\">\n",
              "  <thead>\n",
              "    <tr style=\"text-align: right;\">\n",
              "      <th></th>\n",
              "      <th>twitts</th>\n",
              "      <th>sentiment</th>\n",
              "    </tr>\n",
              "  </thead>\n",
              "  <tbody>\n",
              "    <tr>\n",
              "      <th>0</th>\n",
              "      <td>is bored and wants to watch a movie  any sugge...</td>\n",
              "      <td>0</td>\n",
              "    </tr>\n",
              "    <tr>\n",
              "      <th>1</th>\n",
              "      <td>back in miami.  waiting to unboard ship</td>\n",
              "      <td>0</td>\n",
              "    </tr>\n",
              "    <tr>\n",
              "      <th>2</th>\n",
              "      <td>@misskpey awwww dnt dis brng bak memoriessss, ...</td>\n",
              "      <td>0</td>\n",
              "    </tr>\n",
              "    <tr>\n",
              "      <th>3</th>\n",
              "      <td>ughhh i am so tired  blahhhhhhhhh</td>\n",
              "      <td>0</td>\n",
              "    </tr>\n",
              "    <tr>\n",
              "      <th>4</th>\n",
              "      <td>@mandagoforth me bad! It's funny though. Zacha...</td>\n",
              "      <td>0</td>\n",
              "    </tr>\n",
              "  </tbody>\n",
              "</table>\n",
              "</div>"
            ],
            "text/plain": [
              "                                              twitts  sentiment\n",
              "0  is bored and wants to watch a movie  any sugge...          0\n",
              "1           back in miami.  waiting to unboard ship           0\n",
              "2  @misskpey awwww dnt dis brng bak memoriessss, ...          0\n",
              "3                  ughhh i am so tired  blahhhhhhhhh          0\n",
              "4  @mandagoforth me bad! It's funny though. Zacha...          0"
            ]
          },
          "metadata": {
            "tags": []
          },
          "execution_count": 3
        }
      ]
    },
    {
      "cell_type": "code",
      "metadata": {
        "id": "HOBwMxnGEG8t"
      },
      "source": [
        "df['word_counts'] = df['twitts'].apply(lambda x: len(str(x).split()))"
      ],
      "execution_count": null,
      "outputs": []
    },
    {
      "cell_type": "code",
      "metadata": {
        "colab": {
          "base_uri": "https://localhost:8080/",
          "height": 197
        },
        "id": "PqkEl4bMIw5_",
        "outputId": "d726d273-bb83-4a65-8572-a769d4577156"
      },
      "source": [
        "df.sample(5)"
      ],
      "execution_count": null,
      "outputs": [
        {
          "output_type": "execute_result",
          "data": {
            "text/html": [
              "<div>\n",
              "<style scoped>\n",
              "    .dataframe tbody tr th:only-of-type {\n",
              "        vertical-align: middle;\n",
              "    }\n",
              "\n",
              "    .dataframe tbody tr th {\n",
              "        vertical-align: top;\n",
              "    }\n",
              "\n",
              "    .dataframe thead th {\n",
              "        text-align: right;\n",
              "    }\n",
              "</style>\n",
              "<table border=\"1\" class=\"dataframe\">\n",
              "  <thead>\n",
              "    <tr style=\"text-align: right;\">\n",
              "      <th></th>\n",
              "      <th>twitts</th>\n",
              "      <th>sentiment</th>\n",
              "      <th>word_counts</th>\n",
              "    </tr>\n",
              "  </thead>\n",
              "  <tbody>\n",
              "    <tr>\n",
              "      <th>2082</th>\n",
              "      <td>I fell asleep on the couch anddd I miss my butt</td>\n",
              "      <td>1</td>\n",
              "      <td>11</td>\n",
              "    </tr>\n",
              "    <tr>\n",
              "      <th>1737</th>\n",
              "      <td>brb being a pedo.  omg i need a cold shower asap</td>\n",
              "      <td>0</td>\n",
              "      <td>11</td>\n",
              "    </tr>\n",
              "    <tr>\n",
              "      <th>3305</th>\n",
              "      <td>@TalktoDiane Hi Diane. The new site and blogs ...</td>\n",
              "      <td>1</td>\n",
              "      <td>26</td>\n",
              "    </tr>\n",
              "    <tr>\n",
              "      <th>2625</th>\n",
              "      <td>@HollyCleary *txt* On my way.</td>\n",
              "      <td>1</td>\n",
              "      <td>5</td>\n",
              "    </tr>\n",
              "    <tr>\n",
              "      <th>2423</th>\n",
              "      <td>link via Sean on facebook: http://is.gd/JVqK d...</td>\n",
              "      <td>1</td>\n",
              "      <td>9</td>\n",
              "    </tr>\n",
              "  </tbody>\n",
              "</table>\n",
              "</div>"
            ],
            "text/plain": [
              "                                                 twitts  sentiment  word_counts\n",
              "2082   I fell asleep on the couch anddd I miss my butt           1           11\n",
              "1737   brb being a pedo.  omg i need a cold shower asap          0           11\n",
              "3305  @TalktoDiane Hi Diane. The new site and blogs ...          1           26\n",
              "2625                    @HollyCleary *txt* On my way.            1            5\n",
              "2423  link via Sean on facebook: http://is.gd/JVqK d...          1            9"
            ]
          },
          "metadata": {
            "tags": []
          },
          "execution_count": 5
        }
      ]
    },
    {
      "cell_type": "code",
      "metadata": {
        "colab": {
          "base_uri": "https://localhost:8080/"
        },
        "id": "kam5jZHaKqj0",
        "outputId": "d03908d3-0d68-4fb0-9426-dd99c916da85"
      },
      "source": [
        "df['word_counts'].max()"
      ],
      "execution_count": null,
      "outputs": [
        {
          "output_type": "execute_result",
          "data": {
            "text/plain": [
              "32"
            ]
          },
          "metadata": {
            "tags": []
          },
          "execution_count": 6
        }
      ]
    },
    {
      "cell_type": "code",
      "metadata": {
        "colab": {
          "base_uri": "https://localhost:8080/"
        },
        "id": "pOJ_L3Z2LLr4",
        "outputId": "1dce3ca9-d9e4-49c6-8c2c-fd2bd74ddc14"
      },
      "source": [
        "df['word_counts'].min()"
      ],
      "execution_count": null,
      "outputs": [
        {
          "output_type": "execute_result",
          "data": {
            "text/plain": [
              "1"
            ]
          },
          "metadata": {
            "tags": []
          },
          "execution_count": 7
        }
      ]
    },
    {
      "cell_type": "code",
      "metadata": {
        "colab": {
          "base_uri": "https://localhost:8080/",
          "height": 377
        },
        "id": "mREFGW6dLP-u",
        "outputId": "66acdfca-328e-4aba-eb12-a215c17cff55"
      },
      "source": [
        "df[df['word_counts']==1]"
      ],
      "execution_count": null,
      "outputs": [
        {
          "output_type": "execute_result",
          "data": {
            "text/html": [
              "<div>\n",
              "<style scoped>\n",
              "    .dataframe tbody tr th:only-of-type {\n",
              "        vertical-align: middle;\n",
              "    }\n",
              "\n",
              "    .dataframe tbody tr th {\n",
              "        vertical-align: top;\n",
              "    }\n",
              "\n",
              "    .dataframe thead th {\n",
              "        text-align: right;\n",
              "    }\n",
              "</style>\n",
              "<table border=\"1\" class=\"dataframe\">\n",
              "  <thead>\n",
              "    <tr style=\"text-align: right;\">\n",
              "      <th></th>\n",
              "      <th>twitts</th>\n",
              "      <th>sentiment</th>\n",
              "      <th>word_counts</th>\n",
              "    </tr>\n",
              "  </thead>\n",
              "  <tbody>\n",
              "    <tr>\n",
              "      <th>385</th>\n",
              "      <td>homework</td>\n",
              "      <td>0</td>\n",
              "      <td>1</td>\n",
              "    </tr>\n",
              "    <tr>\n",
              "      <th>691</th>\n",
              "      <td>@ekrelly</td>\n",
              "      <td>0</td>\n",
              "      <td>1</td>\n",
              "    </tr>\n",
              "    <tr>\n",
              "      <th>1124</th>\n",
              "      <td>disappointed</td>\n",
              "      <td>0</td>\n",
              "      <td>1</td>\n",
              "    </tr>\n",
              "    <tr>\n",
              "      <th>1286</th>\n",
              "      <td>@officialmgnfox</td>\n",
              "      <td>0</td>\n",
              "      <td>1</td>\n",
              "    </tr>\n",
              "    <tr>\n",
              "      <th>1325</th>\n",
              "      <td>headache</td>\n",
              "      <td>0</td>\n",
              "      <td>1</td>\n",
              "    </tr>\n",
              "    <tr>\n",
              "      <th>1897</th>\n",
              "      <td>@MCRmuffin</td>\n",
              "      <td>0</td>\n",
              "      <td>1</td>\n",
              "    </tr>\n",
              "    <tr>\n",
              "      <th>2542</th>\n",
              "      <td>Graduated!</td>\n",
              "      <td>1</td>\n",
              "      <td>1</td>\n",
              "    </tr>\n",
              "    <tr>\n",
              "      <th>2947</th>\n",
              "      <td>reading</td>\n",
              "      <td>1</td>\n",
              "      <td>1</td>\n",
              "    </tr>\n",
              "    <tr>\n",
              "      <th>3176</th>\n",
              "      <td>@omeirdeleon</td>\n",
              "      <td>1</td>\n",
              "      <td>1</td>\n",
              "    </tr>\n",
              "    <tr>\n",
              "      <th>3470</th>\n",
              "      <td>www.myspace.com/myfinalthought</td>\n",
              "      <td>1</td>\n",
              "      <td>1</td>\n",
              "    </tr>\n",
              "    <tr>\n",
              "      <th>3966</th>\n",
              "      <td>@gethyp3</td>\n",
              "      <td>1</td>\n",
              "      <td>1</td>\n",
              "    </tr>\n",
              "  </tbody>\n",
              "</table>\n",
              "</div>"
            ],
            "text/plain": [
              "                               twitts  sentiment  word_counts\n",
              "385                         homework           0            1\n",
              "691                         @ekrelly           0            1\n",
              "1124                    disappointed           0            1\n",
              "1286                 @officialmgnfox           0            1\n",
              "1325                        headache           0            1\n",
              "1897                      @MCRmuffin           0            1\n",
              "2542                      Graduated!           1            1\n",
              "2947                         reading           1            1\n",
              "3176                    @omeirdeleon           1            1\n",
              "3470  www.myspace.com/myfinalthought           1            1\n",
              "3966                        @gethyp3           1            1"
            ]
          },
          "metadata": {
            "tags": []
          },
          "execution_count": 8
        }
      ]
    },
    {
      "cell_type": "code",
      "metadata": {
        "colab": {
          "base_uri": "https://localhost:8080/"
        },
        "id": "-OisFgBALZtt",
        "outputId": "47e0c6c5-9f02-4c6b-afad-668cf7d76f8d"
      },
      "source": [
        "#Character Counts\n",
        "x='This is Bibhas'\n",
        "len(x)"
      ],
      "execution_count": null,
      "outputs": [
        {
          "output_type": "execute_result",
          "data": {
            "text/plain": [
              "14"
            ]
          },
          "metadata": {
            "tags": []
          },
          "execution_count": 9
        }
      ]
    },
    {
      "cell_type": "code",
      "metadata": {
        "id": "t9NE4dp9QJfE"
      },
      "source": [
        "def char_count(x):\n",
        "  s = x.split()\n",
        "  x = ''.join(s)\n",
        "  return len(x)"
      ],
      "execution_count": null,
      "outputs": []
    },
    {
      "cell_type": "code",
      "metadata": {
        "colab": {
          "base_uri": "https://localhost:8080/"
        },
        "id": "tjRfli9HQX2G",
        "outputId": "5d46b1be-2411-47cc-b888-10d5a7a9f536"
      },
      "source": [
        "char_count(x)"
      ],
      "execution_count": null,
      "outputs": [
        {
          "output_type": "execute_result",
          "data": {
            "text/plain": [
              "12"
            ]
          },
          "metadata": {
            "tags": []
          },
          "execution_count": 11
        }
      ]
    },
    {
      "cell_type": "code",
      "metadata": {
        "colab": {
          "base_uri": "https://localhost:8080/",
          "height": 107
        },
        "id": "y9CLIuoHQiq_",
        "outputId": "9505b630-e8b0-42bd-db79-3f1527ccd58c"
      },
      "source": [
        "df['char_counts']=df['twitts'].apply(lambda x: char_count(str(x)))\n",
        "df.sample(2)"
      ],
      "execution_count": null,
      "outputs": [
        {
          "output_type": "execute_result",
          "data": {
            "text/html": [
              "<div>\n",
              "<style scoped>\n",
              "    .dataframe tbody tr th:only-of-type {\n",
              "        vertical-align: middle;\n",
              "    }\n",
              "\n",
              "    .dataframe tbody tr th {\n",
              "        vertical-align: top;\n",
              "    }\n",
              "\n",
              "    .dataframe thead th {\n",
              "        text-align: right;\n",
              "    }\n",
              "</style>\n",
              "<table border=\"1\" class=\"dataframe\">\n",
              "  <thead>\n",
              "    <tr style=\"text-align: right;\">\n",
              "      <th></th>\n",
              "      <th>twitts</th>\n",
              "      <th>sentiment</th>\n",
              "      <th>word_counts</th>\n",
              "      <th>char_counts</th>\n",
              "    </tr>\n",
              "  </thead>\n",
              "  <tbody>\n",
              "    <tr>\n",
              "      <th>3667</th>\n",
              "      <td>I get super excited when long weekends are in ...</td>\n",
              "      <td>1</td>\n",
              "      <td>27</td>\n",
              "      <td>103</td>\n",
              "    </tr>\n",
              "    <tr>\n",
              "      <th>2588</th>\n",
              "      <td>Dad keeps calling me about the game today. &amp;qu...</td>\n",
              "      <td>1</td>\n",
              "      <td>22</td>\n",
              "      <td>107</td>\n",
              "    </tr>\n",
              "  </tbody>\n",
              "</table>\n",
              "</div>"
            ],
            "text/plain": [
              "                                                 twitts  ...  char_counts\n",
              "3667  I get super excited when long weekends are in ...  ...          103\n",
              "2588  Dad keeps calling me about the game today. &qu...  ...          107\n",
              "\n",
              "[2 rows x 4 columns]"
            ]
          },
          "metadata": {
            "tags": []
          },
          "execution_count": 12
        }
      ]
    },
    {
      "cell_type": "code",
      "metadata": {
        "id": "4zGKZW44Q2Zd"
      },
      "source": [
        "#Average Word Length\n",
        "df['avg_word_len']= df['char_counts']/df['word_counts']"
      ],
      "execution_count": null,
      "outputs": []
    },
    {
      "cell_type": "code",
      "metadata": {
        "colab": {
          "base_uri": "https://localhost:8080/",
          "height": 197
        },
        "id": "u4yiHecJUkSA",
        "outputId": "9bc07618-5a3b-4d7a-e8fa-7c0194371a6e"
      },
      "source": [
        "df.head()"
      ],
      "execution_count": null,
      "outputs": [
        {
          "output_type": "execute_result",
          "data": {
            "text/html": [
              "<div>\n",
              "<style scoped>\n",
              "    .dataframe tbody tr th:only-of-type {\n",
              "        vertical-align: middle;\n",
              "    }\n",
              "\n",
              "    .dataframe tbody tr th {\n",
              "        vertical-align: top;\n",
              "    }\n",
              "\n",
              "    .dataframe thead th {\n",
              "        text-align: right;\n",
              "    }\n",
              "</style>\n",
              "<table border=\"1\" class=\"dataframe\">\n",
              "  <thead>\n",
              "    <tr style=\"text-align: right;\">\n",
              "      <th></th>\n",
              "      <th>twitts</th>\n",
              "      <th>sentiment</th>\n",
              "      <th>word_counts</th>\n",
              "      <th>char_counts</th>\n",
              "      <th>avg_word_len</th>\n",
              "    </tr>\n",
              "  </thead>\n",
              "  <tbody>\n",
              "    <tr>\n",
              "      <th>0</th>\n",
              "      <td>is bored and wants to watch a movie  any sugge...</td>\n",
              "      <td>0</td>\n",
              "      <td>10</td>\n",
              "      <td>43</td>\n",
              "      <td>4.300000</td>\n",
              "    </tr>\n",
              "    <tr>\n",
              "      <th>1</th>\n",
              "      <td>back in miami.  waiting to unboard ship</td>\n",
              "      <td>0</td>\n",
              "      <td>7</td>\n",
              "      <td>32</td>\n",
              "      <td>4.571429</td>\n",
              "    </tr>\n",
              "    <tr>\n",
              "      <th>2</th>\n",
              "      <td>@misskpey awwww dnt dis brng bak memoriessss, ...</td>\n",
              "      <td>0</td>\n",
              "      <td>12</td>\n",
              "      <td>54</td>\n",
              "      <td>4.500000</td>\n",
              "    </tr>\n",
              "    <tr>\n",
              "      <th>3</th>\n",
              "      <td>ughhh i am so tired  blahhhhhhhhh</td>\n",
              "      <td>0</td>\n",
              "      <td>6</td>\n",
              "      <td>27</td>\n",
              "      <td>4.500000</td>\n",
              "    </tr>\n",
              "    <tr>\n",
              "      <th>4</th>\n",
              "      <td>@mandagoforth me bad! It's funny though. Zacha...</td>\n",
              "      <td>0</td>\n",
              "      <td>26</td>\n",
              "      <td>116</td>\n",
              "      <td>4.461538</td>\n",
              "    </tr>\n",
              "  </tbody>\n",
              "</table>\n",
              "</div>"
            ],
            "text/plain": [
              "                                              twitts  ...  avg_word_len\n",
              "0  is bored and wants to watch a movie  any sugge...  ...      4.300000\n",
              "1           back in miami.  waiting to unboard ship   ...      4.571429\n",
              "2  @misskpey awwww dnt dis brng bak memoriessss, ...  ...      4.500000\n",
              "3                  ughhh i am so tired  blahhhhhhhhh  ...      4.500000\n",
              "4  @mandagoforth me bad! It's funny though. Zacha...  ...      4.461538\n",
              "\n",
              "[5 rows x 5 columns]"
            ]
          },
          "metadata": {
            "tags": []
          },
          "execution_count": 14
        }
      ]
    },
    {
      "cell_type": "code",
      "metadata": {
        "colab": {
          "base_uri": "https://localhost:8080/"
        },
        "id": "K_8R_MVTUmga",
        "outputId": "7418eb30-6e1a-42d8-bb0c-bad8596c7242"
      },
      "source": [
        "len(stopwords)"
      ],
      "execution_count": null,
      "outputs": [
        {
          "output_type": "execute_result",
          "data": {
            "text/plain": [
              "326"
            ]
          },
          "metadata": {
            "tags": []
          },
          "execution_count": 15
        }
      ]
    },
    {
      "cell_type": "code",
      "metadata": {
        "colab": {
          "base_uri": "https://localhost:8080/"
        },
        "id": "E8XApBo8VN3U",
        "outputId": "04a268d8-8f02-439b-f974-658f94196501"
      },
      "source": [
        "x = 'this is the text data'\n",
        "x.split()"
      ],
      "execution_count": null,
      "outputs": [
        {
          "output_type": "execute_result",
          "data": {
            "text/plain": [
              "['this', 'is', 'the', 'text', 'data']"
            ]
          },
          "metadata": {
            "tags": []
          },
          "execution_count": 16
        }
      ]
    },
    {
      "cell_type": "code",
      "metadata": {
        "colab": {
          "base_uri": "https://localhost:8080/"
        },
        "id": "XdMWNIUiXUNQ",
        "outputId": "46a1f063-bb31-43fc-e819-502b5693a84f"
      },
      "source": [
        "len(x.split())"
      ],
      "execution_count": null,
      "outputs": [
        {
          "output_type": "execute_result",
          "data": {
            "text/plain": [
              "5"
            ]
          },
          "metadata": {
            "tags": []
          },
          "execution_count": 17
        }
      ]
    },
    {
      "cell_type": "code",
      "metadata": {
        "colab": {
          "base_uri": "https://localhost:8080/"
        },
        "id": "cjf38uezX8Lz",
        "outputId": "67a3ae3f-ff3d-459c-c81a-bf19790c1d7a"
      },
      "source": [
        "[t for t in x.split() if t in stopwords]"
      ],
      "execution_count": null,
      "outputs": [
        {
          "output_type": "execute_result",
          "data": {
            "text/plain": [
              "['this', 'is', 'the']"
            ]
          },
          "metadata": {
            "tags": []
          },
          "execution_count": 18
        }
      ]
    },
    {
      "cell_type": "code",
      "metadata": {
        "colab": {
          "base_uri": "https://localhost:8080/"
        },
        "id": "KxZwwDJGYDjm",
        "outputId": "aab760e4-3633-4d0d-8be4-df42c8c24777"
      },
      "source": [
        "len([t for t in x.split() if t in stopwords])"
      ],
      "execution_count": null,
      "outputs": [
        {
          "output_type": "execute_result",
          "data": {
            "text/plain": [
              "3"
            ]
          },
          "metadata": {
            "tags": []
          },
          "execution_count": 19
        }
      ]
    },
    {
      "cell_type": "code",
      "metadata": {
        "id": "5Htc-5CwYIUo"
      },
      "source": [
        "\n",
        "df['stop_words_len'] = df['twitts'].apply(lambda x:len([t for t in x.split() if t in stopwords]))"
      ],
      "execution_count": null,
      "outputs": []
    },
    {
      "cell_type": "code",
      "metadata": {
        "colab": {
          "base_uri": "https://localhost:8080/",
          "height": 197
        },
        "id": "KlCveOhEYs7K",
        "outputId": "26957685-cda0-4b68-da44-a32f22151df4"
      },
      "source": [
        "df.head()"
      ],
      "execution_count": null,
      "outputs": [
        {
          "output_type": "execute_result",
          "data": {
            "text/html": [
              "<div>\n",
              "<style scoped>\n",
              "    .dataframe tbody tr th:only-of-type {\n",
              "        vertical-align: middle;\n",
              "    }\n",
              "\n",
              "    .dataframe tbody tr th {\n",
              "        vertical-align: top;\n",
              "    }\n",
              "\n",
              "    .dataframe thead th {\n",
              "        text-align: right;\n",
              "    }\n",
              "</style>\n",
              "<table border=\"1\" class=\"dataframe\">\n",
              "  <thead>\n",
              "    <tr style=\"text-align: right;\">\n",
              "      <th></th>\n",
              "      <th>twitts</th>\n",
              "      <th>sentiment</th>\n",
              "      <th>word_counts</th>\n",
              "      <th>char_counts</th>\n",
              "      <th>avg_word_len</th>\n",
              "      <th>stop_words_len</th>\n",
              "    </tr>\n",
              "  </thead>\n",
              "  <tbody>\n",
              "    <tr>\n",
              "      <th>0</th>\n",
              "      <td>is bored and wants to watch a movie  any sugge...</td>\n",
              "      <td>0</td>\n",
              "      <td>10</td>\n",
              "      <td>43</td>\n",
              "      <td>4.300000</td>\n",
              "      <td>5</td>\n",
              "    </tr>\n",
              "    <tr>\n",
              "      <th>1</th>\n",
              "      <td>back in miami.  waiting to unboard ship</td>\n",
              "      <td>0</td>\n",
              "      <td>7</td>\n",
              "      <td>32</td>\n",
              "      <td>4.571429</td>\n",
              "      <td>3</td>\n",
              "    </tr>\n",
              "    <tr>\n",
              "      <th>2</th>\n",
              "      <td>@misskpey awwww dnt dis brng bak memoriessss, ...</td>\n",
              "      <td>0</td>\n",
              "      <td>12</td>\n",
              "      <td>54</td>\n",
              "      <td>4.500000</td>\n",
              "      <td>0</td>\n",
              "    </tr>\n",
              "    <tr>\n",
              "      <th>3</th>\n",
              "      <td>ughhh i am so tired  blahhhhhhhhh</td>\n",
              "      <td>0</td>\n",
              "      <td>6</td>\n",
              "      <td>27</td>\n",
              "      <td>4.500000</td>\n",
              "      <td>3</td>\n",
              "    </tr>\n",
              "    <tr>\n",
              "      <th>4</th>\n",
              "      <td>@mandagoforth me bad! It's funny though. Zacha...</td>\n",
              "      <td>0</td>\n",
              "      <td>26</td>\n",
              "      <td>116</td>\n",
              "      <td>4.461538</td>\n",
              "      <td>13</td>\n",
              "    </tr>\n",
              "  </tbody>\n",
              "</table>\n",
              "</div>"
            ],
            "text/plain": [
              "                                              twitts  ...  stop_words_len\n",
              "0  is bored and wants to watch a movie  any sugge...  ...               5\n",
              "1           back in miami.  waiting to unboard ship   ...               3\n",
              "2  @misskpey awwww dnt dis brng bak memoriessss, ...  ...               0\n",
              "3                  ughhh i am so tired  blahhhhhhhhh  ...               3\n",
              "4  @mandagoforth me bad! It's funny though. Zacha...  ...              13\n",
              "\n",
              "[5 rows x 6 columns]"
            ]
          },
          "metadata": {
            "tags": []
          },
          "execution_count": 21
        }
      ]
    },
    {
      "cell_type": "code",
      "metadata": {
        "colab": {
          "base_uri": "https://localhost:8080/",
          "height": 197
        },
        "id": "faZT4ba7Yvul",
        "outputId": "f7bf302c-bd77-4c1b-929b-3e08193ee475"
      },
      "source": [
        "df.sample(5)"
      ],
      "execution_count": null,
      "outputs": [
        {
          "output_type": "execute_result",
          "data": {
            "text/html": [
              "<div>\n",
              "<style scoped>\n",
              "    .dataframe tbody tr th:only-of-type {\n",
              "        vertical-align: middle;\n",
              "    }\n",
              "\n",
              "    .dataframe tbody tr th {\n",
              "        vertical-align: top;\n",
              "    }\n",
              "\n",
              "    .dataframe thead th {\n",
              "        text-align: right;\n",
              "    }\n",
              "</style>\n",
              "<table border=\"1\" class=\"dataframe\">\n",
              "  <thead>\n",
              "    <tr style=\"text-align: right;\">\n",
              "      <th></th>\n",
              "      <th>twitts</th>\n",
              "      <th>sentiment</th>\n",
              "      <th>word_counts</th>\n",
              "      <th>char_counts</th>\n",
              "      <th>avg_word_len</th>\n",
              "      <th>stop_words_len</th>\n",
              "    </tr>\n",
              "  </thead>\n",
              "  <tbody>\n",
              "    <tr>\n",
              "      <th>968</th>\n",
              "      <td>has subscribed with Alchemy twice to get an al...</td>\n",
              "      <td>0</td>\n",
              "      <td>26</td>\n",
              "      <td>112</td>\n",
              "      <td>4.307692</td>\n",
              "      <td>12</td>\n",
              "    </tr>\n",
              "    <tr>\n",
              "      <th>1401</th>\n",
              "      <td>@MGiraudOfficial It's not ready, yet</td>\n",
              "      <td>0</td>\n",
              "      <td>5</td>\n",
              "      <td>32</td>\n",
              "      <td>6.400000</td>\n",
              "      <td>2</td>\n",
              "    </tr>\n",
              "    <tr>\n",
              "      <th>1055</th>\n",
              "      <td>@Live_for_Films Yeah its fantastic, bit of a b...</td>\n",
              "      <td>0</td>\n",
              "      <td>20</td>\n",
              "      <td>106</td>\n",
              "      <td>5.300000</td>\n",
              "      <td>8</td>\n",
              "    </tr>\n",
              "    <tr>\n",
              "      <th>1586</th>\n",
              "      <td>x_tara me tooo!! holidaysss are the best. so n...</td>\n",
              "      <td>0</td>\n",
              "      <td>13</td>\n",
              "      <td>62</td>\n",
              "      <td>4.769231</td>\n",
              "      <td>6</td>\n",
              "    </tr>\n",
              "    <tr>\n",
              "      <th>496</th>\n",
              "      <td>studying for a final that is going to be the d...</td>\n",
              "      <td>0</td>\n",
              "      <td>13</td>\n",
              "      <td>46</td>\n",
              "      <td>3.538462</td>\n",
              "      <td>8</td>\n",
              "    </tr>\n",
              "  </tbody>\n",
              "</table>\n",
              "</div>"
            ],
            "text/plain": [
              "                                                 twitts  ...  stop_words_len\n",
              "968   has subscribed with Alchemy twice to get an al...  ...              12\n",
              "1401              @MGiraudOfficial It's not ready, yet   ...               2\n",
              "1055  @Live_for_Films Yeah its fantastic, bit of a b...  ...               8\n",
              "1586  x_tara me tooo!! holidaysss are the best. so n...  ...               6\n",
              "496   studying for a final that is going to be the d...  ...               8\n",
              "\n",
              "[5 rows x 6 columns]"
            ]
          },
          "metadata": {
            "tags": []
          },
          "execution_count": 22
        }
      ]
    },
    {
      "cell_type": "code",
      "metadata": {
        "colab": {
          "base_uri": "https://localhost:8080/"
        },
        "id": "bSsy7lP_Yz2E",
        "outputId": "fafe753b-039f-466c-e934-9a82459f0b1a"
      },
      "source": [
        "# Count #Hastags and @Mention\n",
        "x = 'this is #hastag and this is @mention'\n",
        "x.split()"
      ],
      "execution_count": null,
      "outputs": [
        {
          "output_type": "execute_result",
          "data": {
            "text/plain": [
              "['this', 'is', '#hastag', 'and', 'this', 'is', '@mention']"
            ]
          },
          "metadata": {
            "tags": []
          },
          "execution_count": 23
        }
      ]
    },
    {
      "cell_type": "code",
      "metadata": {
        "colab": {
          "base_uri": "https://localhost:8080/"
        },
        "id": "smqZRsPCaBhp",
        "outputId": "64fab573-36c5-4eed-b8c6-2356d8505584"
      },
      "source": [
        "len([t for t in x.split() if t.startswith('#')])"
      ],
      "execution_count": null,
      "outputs": [
        {
          "output_type": "execute_result",
          "data": {
            "text/plain": [
              "1"
            ]
          },
          "metadata": {
            "tags": []
          },
          "execution_count": 24
        }
      ]
    },
    {
      "cell_type": "code",
      "metadata": {
        "colab": {
          "base_uri": "https://localhost:8080/"
        },
        "id": "SD9poFvUaLcy",
        "outputId": "d3ce460a-a2a1-4b06-c7d3-80ad80bfae62"
      },
      "source": [
        "len([t for t in x.split() if t.startswith('@')])"
      ],
      "execution_count": null,
      "outputs": [
        {
          "output_type": "execute_result",
          "data": {
            "text/plain": [
              "1"
            ]
          },
          "metadata": {
            "tags": []
          },
          "execution_count": 25
        }
      ]
    },
    {
      "cell_type": "code",
      "metadata": {
        "id": "7NcaLPP6aSDk"
      },
      "source": [
        "df['hastag_count']=df['twitts'].apply(lambda x: len([t for t in x.split() if t.startswith('#')]))\n",
        "df['mention_count']=df['twitts'].apply(lambda x: len([t for t in x.split() if t.startswith('@')]))\n"
      ],
      "execution_count": null,
      "outputs": []
    },
    {
      "cell_type": "code",
      "metadata": {
        "colab": {
          "base_uri": "https://localhost:8080/",
          "height": 231
        },
        "id": "r8d6hqOxa4_X",
        "outputId": "761ded32-8a79-44b6-e23a-63b9ca0b93be"
      },
      "source": [
        "df.sample(5)"
      ],
      "execution_count": null,
      "outputs": [
        {
          "output_type": "execute_result",
          "data": {
            "text/html": [
              "<div>\n",
              "<style scoped>\n",
              "    .dataframe tbody tr th:only-of-type {\n",
              "        vertical-align: middle;\n",
              "    }\n",
              "\n",
              "    .dataframe tbody tr th {\n",
              "        vertical-align: top;\n",
              "    }\n",
              "\n",
              "    .dataframe thead th {\n",
              "        text-align: right;\n",
              "    }\n",
              "</style>\n",
              "<table border=\"1\" class=\"dataframe\">\n",
              "  <thead>\n",
              "    <tr style=\"text-align: right;\">\n",
              "      <th></th>\n",
              "      <th>twitts</th>\n",
              "      <th>sentiment</th>\n",
              "      <th>word_counts</th>\n",
              "      <th>char_counts</th>\n",
              "      <th>avg_word_len</th>\n",
              "      <th>stop_words_len</th>\n",
              "      <th>hastag_count</th>\n",
              "      <th>mention_count</th>\n",
              "    </tr>\n",
              "  </thead>\n",
              "  <tbody>\n",
              "    <tr>\n",
              "      <th>2103</th>\n",
              "      <td>I have found heaven....my back garden. Tunes o...</td>\n",
              "      <td>1</td>\n",
              "      <td>19</td>\n",
              "      <td>92</td>\n",
              "      <td>4.842105</td>\n",
              "      <td>5</td>\n",
              "      <td>0</td>\n",
              "      <td>0</td>\n",
              "    </tr>\n",
              "    <tr>\n",
              "      <th>835</th>\n",
              "      <td>Avoiding statistics, and now suddenlink shut t...</td>\n",
              "      <td>0</td>\n",
              "      <td>22</td>\n",
              "      <td>92</td>\n",
              "      <td>4.181818</td>\n",
              "      <td>12</td>\n",
              "      <td>0</td>\n",
              "      <td>0</td>\n",
              "    </tr>\n",
              "    <tr>\n",
              "      <th>1326</th>\n",
              "      <td>much to tired. concidering going to bed already.</td>\n",
              "      <td>0</td>\n",
              "      <td>8</td>\n",
              "      <td>41</td>\n",
              "      <td>5.125000</td>\n",
              "      <td>3</td>\n",
              "      <td>0</td>\n",
              "      <td>0</td>\n",
              "    </tr>\n",
              "    <tr>\n",
              "      <th>3387</th>\n",
              "      <td>Another loser: I'm happy Kalkata Knight Riders...</td>\n",
              "      <td>1</td>\n",
              "      <td>13</td>\n",
              "      <td>91</td>\n",
              "      <td>7.000000</td>\n",
              "      <td>1</td>\n",
              "      <td>0</td>\n",
              "      <td>0</td>\n",
              "    </tr>\n",
              "    <tr>\n",
              "      <th>3679</th>\n",
              "      <td>@shaundiviney whats the stack packs gonna incl...</td>\n",
              "      <td>1</td>\n",
              "      <td>19</td>\n",
              "      <td>89</td>\n",
              "      <td>4.684211</td>\n",
              "      <td>8</td>\n",
              "      <td>0</td>\n",
              "      <td>1</td>\n",
              "    </tr>\n",
              "  </tbody>\n",
              "</table>\n",
              "</div>"
            ],
            "text/plain": [
              "                                                 twitts  ...  mention_count\n",
              "2103  I have found heaven....my back garden. Tunes o...  ...              0\n",
              "835   Avoiding statistics, and now suddenlink shut t...  ...              0\n",
              "1326  much to tired. concidering going to bed already.   ...              0\n",
              "3387  Another loser: I'm happy Kalkata Knight Riders...  ...              0\n",
              "3679  @shaundiviney whats the stack packs gonna incl...  ...              1\n",
              "\n",
              "[5 rows x 8 columns]"
            ]
          },
          "metadata": {
            "tags": []
          },
          "execution_count": 27
        }
      ]
    },
    {
      "cell_type": "code",
      "metadata": {
        "colab": {
          "base_uri": "https://localhost:8080/"
        },
        "id": "2pWmDH_Ka7xH",
        "outputId": "dc044dde-cdff-4b7a-a734-9a4c08f4ad27"
      },
      "source": [
        "# If numeric is present\n",
        "x = 'This is 1 and 2'\n",
        "x.split()"
      ],
      "execution_count": null,
      "outputs": [
        {
          "output_type": "execute_result",
          "data": {
            "text/plain": [
              "['This', 'is', '1', 'and', '2']"
            ]
          },
          "metadata": {
            "tags": []
          },
          "execution_count": 28
        }
      ]
    },
    {
      "cell_type": "code",
      "metadata": {
        "colab": {
          "base_uri": "https://localhost:8080/"
        },
        "id": "I4KmMEWNbc00",
        "outputId": "3b630d05-8923-4f85-f998-b82350cea319"
      },
      "source": [
        "x.split()[2].isdigit()"
      ],
      "execution_count": null,
      "outputs": [
        {
          "output_type": "execute_result",
          "data": {
            "text/plain": [
              "True"
            ]
          },
          "metadata": {
            "tags": []
          },
          "execution_count": 29
        }
      ]
    },
    {
      "cell_type": "code",
      "metadata": {
        "colab": {
          "base_uri": "https://localhost:8080/"
        },
        "id": "FoZV7GafbkMj",
        "outputId": "1631b381-a734-4ee5-f34f-339281e209d8"
      },
      "source": [
        "[t for t in x.split() if t.isdigit()]"
      ],
      "execution_count": null,
      "outputs": [
        {
          "output_type": "execute_result",
          "data": {
            "text/plain": [
              "['1', '2']"
            ]
          },
          "metadata": {
            "tags": []
          },
          "execution_count": 30
        }
      ]
    },
    {
      "cell_type": "code",
      "metadata": {
        "id": "0DfzYMdleWMF"
      },
      "source": [
        "df['numeric_counts'] = df['twitts'].apply( lambda x: len([t for t in x.split() if t.isdigit()]))"
      ],
      "execution_count": null,
      "outputs": []
    },
    {
      "cell_type": "code",
      "metadata": {
        "colab": {
          "base_uri": "https://localhost:8080/",
          "height": 297
        },
        "id": "O3UTTBmeeq9k",
        "outputId": "fd0a467d-5416-457d-a021-fb7500240220"
      },
      "source": [
        "df.sample(5)"
      ],
      "execution_count": null,
      "outputs": [
        {
          "output_type": "execute_result",
          "data": {
            "text/html": [
              "<div>\n",
              "<style scoped>\n",
              "    .dataframe tbody tr th:only-of-type {\n",
              "        vertical-align: middle;\n",
              "    }\n",
              "\n",
              "    .dataframe tbody tr th {\n",
              "        vertical-align: top;\n",
              "    }\n",
              "\n",
              "    .dataframe thead th {\n",
              "        text-align: right;\n",
              "    }\n",
              "</style>\n",
              "<table border=\"1\" class=\"dataframe\">\n",
              "  <thead>\n",
              "    <tr style=\"text-align: right;\">\n",
              "      <th></th>\n",
              "      <th>twitts</th>\n",
              "      <th>sentiment</th>\n",
              "      <th>word_counts</th>\n",
              "      <th>char_counts</th>\n",
              "      <th>avg_word_len</th>\n",
              "      <th>stop_words_len</th>\n",
              "      <th>hastag_count</th>\n",
              "      <th>mention_count</th>\n",
              "      <th>numeric_counts</th>\n",
              "    </tr>\n",
              "  </thead>\n",
              "  <tbody>\n",
              "    <tr>\n",
              "      <th>2189</th>\n",
              "      <td>first night in myers. just not the same w/out ...</td>\n",
              "      <td>1</td>\n",
              "      <td>17</td>\n",
              "      <td>80</td>\n",
              "      <td>4.705882</td>\n",
              "      <td>9</td>\n",
              "      <td>0</td>\n",
              "      <td>0</td>\n",
              "      <td>0</td>\n",
              "    </tr>\n",
              "    <tr>\n",
              "      <th>669</th>\n",
              "      <td>@mat_simmons Music Media and Drama, now they t...</td>\n",
              "      <td>0</td>\n",
              "      <td>25</td>\n",
              "      <td>113</td>\n",
              "      <td>4.520000</td>\n",
              "      <td>12</td>\n",
              "      <td>0</td>\n",
              "      <td>1</td>\n",
              "      <td>0</td>\n",
              "    </tr>\n",
              "    <tr>\n",
              "      <th>1440</th>\n",
              "      <td>@juderivera yup.. i hear you.. i hate it mysel...</td>\n",
              "      <td>0</td>\n",
              "      <td>14</td>\n",
              "      <td>57</td>\n",
              "      <td>4.071429</td>\n",
              "      <td>5</td>\n",
              "      <td>0</td>\n",
              "      <td>1</td>\n",
              "      <td>0</td>\n",
              "    </tr>\n",
              "    <tr>\n",
              "      <th>2784</th>\n",
              "      <td>@realadulttalk come on and smile for me? That'...</td>\n",
              "      <td>1</td>\n",
              "      <td>12</td>\n",
              "      <td>62</td>\n",
              "      <td>5.166667</td>\n",
              "      <td>4</td>\n",
              "      <td>0</td>\n",
              "      <td>1</td>\n",
              "      <td>0</td>\n",
              "    </tr>\n",
              "    <tr>\n",
              "      <th>184</th>\n",
              "      <td>@megsi23 @PatsyTravers voting is working now b...</td>\n",
              "      <td>0</td>\n",
              "      <td>11</td>\n",
              "      <td>58</td>\n",
              "      <td>5.272727</td>\n",
              "      <td>6</td>\n",
              "      <td>0</td>\n",
              "      <td>2</td>\n",
              "      <td>0</td>\n",
              "    </tr>\n",
              "  </tbody>\n",
              "</table>\n",
              "</div>"
            ],
            "text/plain": [
              "                                                 twitts  ...  numeric_counts\n",
              "2189  first night in myers. just not the same w/out ...  ...               0\n",
              "669   @mat_simmons Music Media and Drama, now they t...  ...               0\n",
              "1440  @juderivera yup.. i hear you.. i hate it mysel...  ...               0\n",
              "2784  @realadulttalk come on and smile for me? That'...  ...               0\n",
              "184   @megsi23 @PatsyTravers voting is working now b...  ...               0\n",
              "\n",
              "[5 rows x 9 columns]"
            ]
          },
          "metadata": {
            "tags": []
          },
          "execution_count": 32
        }
      ]
    },
    {
      "cell_type": "code",
      "metadata": {
        "id": "4dLYO87cf2HW"
      },
      "source": [
        "#Upper word counts\n",
        "[t for t in x.split() if t.isupper()]\n",
        "df['upper_counts'] = df['twitts'].apply(lambda x: len([t for t in x.split() if t.isupper()]))"
      ],
      "execution_count": null,
      "outputs": []
    },
    {
      "cell_type": "code",
      "metadata": {
        "colab": {
          "base_uri": "https://localhost:8080/",
          "height": 144
        },
        "id": "QL6nnY5DmN_F",
        "outputId": "10b667e2-9458-48fc-cdf3-cc2bee2a04f4"
      },
      "source": [
        "df.sample()"
      ],
      "execution_count": null,
      "outputs": [
        {
          "output_type": "execute_result",
          "data": {
            "text/html": [
              "<div>\n",
              "<style scoped>\n",
              "    .dataframe tbody tr th:only-of-type {\n",
              "        vertical-align: middle;\n",
              "    }\n",
              "\n",
              "    .dataframe tbody tr th {\n",
              "        vertical-align: top;\n",
              "    }\n",
              "\n",
              "    .dataframe thead th {\n",
              "        text-align: right;\n",
              "    }\n",
              "</style>\n",
              "<table border=\"1\" class=\"dataframe\">\n",
              "  <thead>\n",
              "    <tr style=\"text-align: right;\">\n",
              "      <th></th>\n",
              "      <th>twitts</th>\n",
              "      <th>sentiment</th>\n",
              "      <th>word_counts</th>\n",
              "      <th>char_counts</th>\n",
              "      <th>avg_word_len</th>\n",
              "      <th>stop_words_len</th>\n",
              "      <th>hastag_count</th>\n",
              "      <th>mention_count</th>\n",
              "      <th>numeric_counts</th>\n",
              "      <th>upper_counts</th>\n",
              "    </tr>\n",
              "  </thead>\n",
              "  <tbody>\n",
              "    <tr>\n",
              "      <th>3624</th>\n",
              "      <td>Just posted a new blog post. Be forewarned it'...</td>\n",
              "      <td>1</td>\n",
              "      <td>14</td>\n",
              "      <td>55</td>\n",
              "      <td>3.928571</td>\n",
              "      <td>2</td>\n",
              "      <td>0</td>\n",
              "      <td>0</td>\n",
              "      <td>0</td>\n",
              "      <td>1</td>\n",
              "    </tr>\n",
              "  </tbody>\n",
              "</table>\n",
              "</div>"
            ],
            "text/plain": [
              "                                                 twitts  ...  upper_counts\n",
              "3624  Just posted a new blog post. Be forewarned it'...  ...             1\n",
              "\n",
              "[1 rows x 10 columns]"
            ]
          },
          "metadata": {
            "tags": []
          },
          "execution_count": 34
        }
      ]
    },
    {
      "cell_type": "code",
      "metadata": {
        "colab": {
          "base_uri": "https://localhost:8080/",
          "height": 467
        },
        "id": "ZRoQpr4TmQRw",
        "outputId": "00e0ca58-bdf3-4f2c-b1a7-b8e8ed36dac1"
      },
      "source": [
        "#preprocessing and Cleaning\n",
        "#Lower case conversion\n",
        "df['twitts']=df['twitts'].apply(lambda x: str(x).lower())\n",
        "df.sample(5)"
      ],
      "execution_count": null,
      "outputs": [
        {
          "output_type": "execute_result",
          "data": {
            "text/html": [
              "<div>\n",
              "<style scoped>\n",
              "    .dataframe tbody tr th:only-of-type {\n",
              "        vertical-align: middle;\n",
              "    }\n",
              "\n",
              "    .dataframe tbody tr th {\n",
              "        vertical-align: top;\n",
              "    }\n",
              "\n",
              "    .dataframe thead th {\n",
              "        text-align: right;\n",
              "    }\n",
              "</style>\n",
              "<table border=\"1\" class=\"dataframe\">\n",
              "  <thead>\n",
              "    <tr style=\"text-align: right;\">\n",
              "      <th></th>\n",
              "      <th>twitts</th>\n",
              "      <th>sentiment</th>\n",
              "      <th>word_counts</th>\n",
              "      <th>char_counts</th>\n",
              "      <th>avg_word_len</th>\n",
              "      <th>stop_words_len</th>\n",
              "      <th>hastag_count</th>\n",
              "      <th>mention_count</th>\n",
              "      <th>numeric_counts</th>\n",
              "      <th>upper_counts</th>\n",
              "    </tr>\n",
              "  </thead>\n",
              "  <tbody>\n",
              "    <tr>\n",
              "      <th>1334</th>\n",
              "      <td>hospitals unnerve me  ~  waiting for the doc, ...</td>\n",
              "      <td>0</td>\n",
              "      <td>12</td>\n",
              "      <td>58</td>\n",
              "      <td>4.833333</td>\n",
              "      <td>4</td>\n",
              "      <td>0</td>\n",
              "      <td>0</td>\n",
              "      <td>0</td>\n",
              "      <td>0</td>\n",
              "    </tr>\n",
              "    <tr>\n",
              "      <th>1422</th>\n",
              "      <td>@joek949 lol i forgot to post up my cheesy song!</td>\n",
              "      <td>0</td>\n",
              "      <td>10</td>\n",
              "      <td>39</td>\n",
              "      <td>3.900000</td>\n",
              "      <td>4</td>\n",
              "      <td>0</td>\n",
              "      <td>1</td>\n",
              "      <td>0</td>\n",
              "      <td>0</td>\n",
              "    </tr>\n",
              "    <tr>\n",
              "      <th>50</th>\n",
              "      <td>@darenotspeak what's wrong?   did you want to ...</td>\n",
              "      <td>0</td>\n",
              "      <td>10</td>\n",
              "      <td>49</td>\n",
              "      <td>4.900000</td>\n",
              "      <td>3</td>\n",
              "      <td>0</td>\n",
              "      <td>1</td>\n",
              "      <td>0</td>\n",
              "      <td>0</td>\n",
              "    </tr>\n",
              "    <tr>\n",
              "      <th>10</th>\n",
              "      <td>@stacig she sent home the best guy, i'm over t...</td>\n",
              "      <td>0</td>\n",
              "      <td>12</td>\n",
              "      <td>50</td>\n",
              "      <td>4.166667</td>\n",
              "      <td>5</td>\n",
              "      <td>0</td>\n",
              "      <td>1</td>\n",
              "      <td>0</td>\n",
              "      <td>0</td>\n",
              "    </tr>\n",
              "    <tr>\n",
              "      <th>3789</th>\n",
              "      <td>@kapsarovb wow... you're full of useful links ...</td>\n",
              "      <td>1</td>\n",
              "      <td>8</td>\n",
              "      <td>45</td>\n",
              "      <td>5.625000</td>\n",
              "      <td>2</td>\n",
              "      <td>0</td>\n",
              "      <td>1</td>\n",
              "      <td>0</td>\n",
              "      <td>0</td>\n",
              "    </tr>\n",
              "  </tbody>\n",
              "</table>\n",
              "</div>"
            ],
            "text/plain": [
              "                                                 twitts  ...  upper_counts\n",
              "1334  hospitals unnerve me  ~  waiting for the doc, ...  ...             0\n",
              "1422  @joek949 lol i forgot to post up my cheesy song!   ...             0\n",
              "50    @darenotspeak what's wrong?   did you want to ...  ...             0\n",
              "10    @stacig she sent home the best guy, i'm over t...  ...             0\n",
              "3789  @kapsarovb wow... you're full of useful links ...  ...             0\n",
              "\n",
              "[5 rows x 10 columns]"
            ]
          },
          "metadata": {
            "tags": []
          },
          "execution_count": 35
        }
      ]
    },
    {
      "cell_type": "code",
      "metadata": {
        "id": "qqvuK3XEnimB"
      },
      "source": [
        "#contractions to expanstion\n",
        "contractions = { \n",
        "\"ain't\": \"am not / are not / is not / has not / have not\",\n",
        "\"aren't\": \"are not / am not\",\n",
        "\"can't\": \"cannot\",\n",
        "\"can't've\": \"cannot have\",\n",
        "\"'cause\": \"because\",\n",
        "\"could've\": \"could have\",\n",
        "\"couldn't\": \"could not\",\n",
        "\"couldn't've\": \"could not have\",\n",
        "\"didn't\": \"did not\",\n",
        "\"doesn't\": \"does not\",\n",
        "\"don't\": \"do not\",\n",
        "\"hadn't\": \"had not\",\n",
        "\"hadn't've\": \"had not have\",\n",
        "\"hasn't\": \"has not\",\n",
        "\"haven't\": \"have not\",\n",
        "\"he'd\": \"he had / he would\",\n",
        "\"he'd've\": \"he would have\",\n",
        "\"he'll\": \"he shall / he will\",\n",
        "\"he'll've\": \"he shall have / he will have\",\n",
        "\"he's\": \"he has / he is\",\n",
        "\"how'd\": \"how did\",\n",
        "\"how'd'y\": \"how do you\",\n",
        "\"how'll\": \"how will\",\n",
        "\"how's\": \"how has / how is / how does\",\n",
        "\"I'd\": \"I had / I would\",\n",
        "\"I'd've\": \"I would have\",\n",
        "\"I'll\": \"I shall / I will\",\n",
        "\"I'll've\": \"I shall have / I will have\",\n",
        "\"I'm\": \"I am\",\n",
        "\"I've\": \"I have\",\n",
        "\"isn't\": \"is not\",\n",
        "\"it'd\": \"it had / it would\",\n",
        "\"it'd've\": \"it would have\",\n",
        "\"it'll\": \"it shall / it will\",\n",
        "\"it'll've\": \"it shall have / it will have\",\n",
        "\"it's\": \"it has / it is\",\n",
        "\"let's\": \"let us\",\n",
        "\"ma'am\": \"madam\",\n",
        "\"mayn't\": \"may not\",\n",
        "\"might've\": \"might have\",\n",
        "\"mightn't\": \"might not\",\n",
        "\"mightn't've\": \"might not have\",\n",
        "\"must've\": \"must have\",\n",
        "\"mustn't\": \"must not\",\n",
        "\"mustn't've\": \"must not have\",\n",
        "\"needn't\": \"need not\",\n",
        "\"needn't've\": \"need not have\",\n",
        "\"o'clock\": \"of the clock\",\n",
        "\"oughtn't\": \"ought not\",\n",
        "\"oughtn't've\": \"ought not have\",\n",
        "\"shan't\": \"shall not\",\n",
        "\"sha'n't\": \"shall not\",\n",
        "\"shan't've\": \"shall not have\",\n",
        "\"she'd\": \"she had / she would\",\n",
        "\"she'd've\": \"she would have\",\n",
        "\"she'll\": \"she shall / she will\",\n",
        "\"she'll've\": \"she shall have / she will have\",\n",
        "\"she's\": \"she has / she is\",\n",
        "\"should've\": \"should have\",\n",
        "\"shouldn't\": \"should not\",\n",
        "\"shouldn't've\": \"should not have\",\n",
        "\"so've\": \"so have\",\n",
        "\"so's\": \"so as / so is\",\n",
        "\"that'd\": \"that would / that had\",\n",
        "\"that'd've\": \"that would have\",\n",
        "\"that's\": \"that has / that is\",\n",
        "\"there'd\": \"there had / there would\",\n",
        "\"there'd've\": \"there would have\",\n",
        "\"there's\": \"there has / there is\",\n",
        "\"they'd\": \"they had / they would\",\n",
        "\"they'd've\": \"they would have\",\n",
        "\"they'll\": \"they shall / they will\",\n",
        "\"they'll've\": \"they shall have / they will have\",\n",
        "\"they're\": \"they are\",\n",
        "\"they've\": \"they have\",\n",
        "\"to've\": \"to have\",\n",
        "\"wasn't\": \"was not\",\n",
        "\"we'd\": \"we had / we would\",\n",
        "\"we'd've\": \"we would have\",\n",
        "\"we'll\": \"we will\",\n",
        "\"we'll've\": \"we will have\",\n",
        "\"we're\": \"we are\",\n",
        "\"we've\": \"we have\",\n",
        "\"weren't\": \"were not\",\n",
        "\"what'll\": \"what shall / what will\",\n",
        "\"what'll've\": \"what shall have / what will have\",\n",
        "\"what're\": \"what are\",\n",
        "\"what's\": \"what has / what is\",\n",
        "\"what've\": \"what have\",\n",
        "\"when's\": \"when has / when is\",\n",
        "\"when've\": \"when have\",\n",
        "\"where'd\": \"where did\",\n",
        "\"where's\": \"where has / where is\",\n",
        "\"where've\": \"where have\",\n",
        "\"who'll\": \"who shall / who will\",\n",
        "\"who'll've\": \"who shall have / who will have\",\n",
        "\"who's\": \"who has / who is\",\n",
        "\"who've\": \"who have\",\n",
        "\"why's\": \"why has / why is\",\n",
        "\"why've\": \"why have\",\n",
        "\"will've\": \"will have\",\n",
        "\"won't\": \"will not\",\n",
        "\"won't've\": \"will not have\",\n",
        "\"would've\": \"would have\",\n",
        "\"wouldn't\": \"would not\",\n",
        "\"wouldn't've\": \"would not have\",\n",
        "\"y'all\": \"you all\",\n",
        "\"y'all'd\": \"you all would\",\n",
        "\"y'all'd've\": \"you all would have\",\n",
        "\"y'all're\": \"you all are\",\n",
        "\"y'all've\": \"you all have\",\n",
        "\"you'd\": \"you had / you would\",\n",
        "\"you'd've\": \"you would have\",\n",
        "\"you'll\": \"you shall / you will\",\n",
        "\"you'll've\": \"you shall have / you will have\",\n",
        "\"you're\": \"you are\",\n",
        "\"you've\": \"you have\",\n",
        "\" u \": \" you \",\n",
        "\" ur \": \" your \",\n",
        "\" n \": \" and \"\n",
        "}"
      ],
      "execution_count": null,
      "outputs": []
    },
    {
      "cell_type": "code",
      "metadata": {
        "id": "k_mMtCwtp0Yu"
      },
      "source": [
        "x = \"I'm don't he'll\""
      ],
      "execution_count": null,
      "outputs": []
    },
    {
      "cell_type": "code",
      "metadata": {
        "id": "yZvJD1wIqv8p"
      },
      "source": [
        "def cont_to_exp(x):\n",
        "  if type(x) is str:\n",
        "    for key in contractions:\n",
        "      value = contractions[key]\n",
        "      x = x.replace(key,value)\n",
        "    return x\n",
        "  else:\n",
        "    return x"
      ],
      "execution_count": null,
      "outputs": []
    },
    {
      "cell_type": "code",
      "metadata": {
        "colab": {
          "base_uri": "https://localhost:8080/",
          "height": 35
        },
        "id": "9tZeAscvrJTi",
        "outputId": "838dbcab-3c23-464e-b949-776e19b420fc"
      },
      "source": [
        "cont_to_exp(x)"
      ],
      "execution_count": null,
      "outputs": [
        {
          "output_type": "execute_result",
          "data": {
            "application/vnd.google.colaboratory.intrinsic+json": {
              "type": "string"
            },
            "text/plain": [
              "'I am do not he shall / he will'"
            ]
          },
          "metadata": {
            "tags": []
          },
          "execution_count": 39
        }
      ]
    },
    {
      "cell_type": "code",
      "metadata": {
        "colab": {
          "base_uri": "https://localhost:8080/"
        },
        "id": "waLv9-UvrL3P",
        "outputId": "2469cc30-dd09-482c-d40f-fc62e899b7f5"
      },
      "source": [
        "%%timeit\n",
        "df['twitts']= df['twitts'].apply(lambda x: cont_to_exp(x))"
      ],
      "execution_count": null,
      "outputs": [
        {
          "output_type": "stream",
          "text": [
            "10 loops, best of 3: 122 ms per loop\n"
          ],
          "name": "stdout"
        }
      ]
    },
    {
      "cell_type": "code",
      "metadata": {
        "colab": {
          "base_uri": "https://localhost:8080/",
          "height": 384
        },
        "id": "64r6Mq-_r8DA",
        "outputId": "a2cd862a-4203-4a04-f825-f2a797ccfbc7"
      },
      "source": [
        "df.sample(5)"
      ],
      "execution_count": null,
      "outputs": [
        {
          "output_type": "execute_result",
          "data": {
            "text/html": [
              "<div>\n",
              "<style scoped>\n",
              "    .dataframe tbody tr th:only-of-type {\n",
              "        vertical-align: middle;\n",
              "    }\n",
              "\n",
              "    .dataframe tbody tr th {\n",
              "        vertical-align: top;\n",
              "    }\n",
              "\n",
              "    .dataframe thead th {\n",
              "        text-align: right;\n",
              "    }\n",
              "</style>\n",
              "<table border=\"1\" class=\"dataframe\">\n",
              "  <thead>\n",
              "    <tr style=\"text-align: right;\">\n",
              "      <th></th>\n",
              "      <th>twitts</th>\n",
              "      <th>sentiment</th>\n",
              "      <th>word_counts</th>\n",
              "      <th>char_counts</th>\n",
              "      <th>avg_word_len</th>\n",
              "      <th>stop_words_len</th>\n",
              "      <th>hastag_count</th>\n",
              "      <th>mention_count</th>\n",
              "      <th>numeric_counts</th>\n",
              "      <th>upper_counts</th>\n",
              "    </tr>\n",
              "  </thead>\n",
              "  <tbody>\n",
              "    <tr>\n",
              "      <th>2377</th>\n",
              "      <td>@kemmeyer hahaha. i totally agree. i could not...</td>\n",
              "      <td>1</td>\n",
              "      <td>13</td>\n",
              "      <td>65</td>\n",
              "      <td>5.000000</td>\n",
              "      <td>3</td>\n",
              "      <td>0</td>\n",
              "      <td>1</td>\n",
              "      <td>0</td>\n",
              "      <td>3</td>\n",
              "    </tr>\n",
              "    <tr>\n",
              "      <th>876</th>\n",
              "      <td>@lipsticknyc hmmm i owed you a story yesterday...</td>\n",
              "      <td>0</td>\n",
              "      <td>23</td>\n",
              "      <td>114</td>\n",
              "      <td>4.956522</td>\n",
              "      <td>8</td>\n",
              "      <td>0</td>\n",
              "      <td>1</td>\n",
              "      <td>0</td>\n",
              "      <td>0</td>\n",
              "    </tr>\n",
              "    <tr>\n",
              "      <th>2964</th>\n",
              "      <td>@mileycyrus http://twitpic.com/6shtr - please ...</td>\n",
              "      <td>1</td>\n",
              "      <td>14</td>\n",
              "      <td>101</td>\n",
              "      <td>7.214286</td>\n",
              "      <td>4</td>\n",
              "      <td>0</td>\n",
              "      <td>1</td>\n",
              "      <td>0</td>\n",
              "      <td>4</td>\n",
              "    </tr>\n",
              "    <tr>\n",
              "      <th>2813</th>\n",
              "      <td>good morning - make it a great day, like i kno...</td>\n",
              "      <td>1</td>\n",
              "      <td>13</td>\n",
              "      <td>44</td>\n",
              "      <td>3.384615</td>\n",
              "      <td>4</td>\n",
              "      <td>0</td>\n",
              "      <td>0</td>\n",
              "      <td>0</td>\n",
              "      <td>1</td>\n",
              "    </tr>\n",
              "    <tr>\n",
              "      <th>3752</th>\n",
              "      <td>'one and the same' and 'headfirst' are out now...</td>\n",
              "      <td>1</td>\n",
              "      <td>16</td>\n",
              "      <td>65</td>\n",
              "      <td>4.062500</td>\n",
              "      <td>9</td>\n",
              "      <td>0</td>\n",
              "      <td>0</td>\n",
              "      <td>0</td>\n",
              "      <td>0</td>\n",
              "    </tr>\n",
              "  </tbody>\n",
              "</table>\n",
              "</div>"
            ],
            "text/plain": [
              "                                                 twitts  ...  upper_counts\n",
              "2377  @kemmeyer hahaha. i totally agree. i could not...  ...             3\n",
              "876   @lipsticknyc hmmm i owed you a story yesterday...  ...             0\n",
              "2964  @mileycyrus http://twitpic.com/6shtr - please ...  ...             4\n",
              "2813  good morning - make it a great day, like i kno...  ...             1\n",
              "3752  'one and the same' and 'headfirst' are out now...  ...             0\n",
              "\n",
              "[5 rows x 10 columns]"
            ]
          },
          "metadata": {
            "tags": []
          },
          "execution_count": 41
        }
      ]
    },
    {
      "cell_type": "code",
      "metadata": {
        "id": "xRH4nmU9sAoc"
      },
      "source": [
        "#Count and remove emails\n",
        "import re\n",
        "x = '@securereces arghh me please markbradbury_16@hotmail.com'"
      ],
      "execution_count": null,
      "outputs": []
    },
    {
      "cell_type": "code",
      "metadata": {
        "colab": {
          "base_uri": "https://localhost:8080/"
        },
        "id": "e2DthiY-t8K5",
        "outputId": "dc2ad5db-2ca5-4077-c325-4729e1f86992"
      },
      "source": [
        "re.findall(r'([a-z0-9+._-]+@[a-z0-9+._-]+\\.[a-z0-9+_-]+\\b)',x)"
      ],
      "execution_count": null,
      "outputs": [
        {
          "output_type": "execute_result",
          "data": {
            "text/plain": [
              "['markbradbury_16@hotmail.com']"
            ]
          },
          "metadata": {
            "tags": []
          },
          "execution_count": 43
        }
      ]
    },
    {
      "cell_type": "code",
      "metadata": {
        "id": "fT-xFDEIujC9"
      },
      "source": [
        "df['emails'] = df['twitts'].apply(lambda x:re.findall(r'([a-z0-9+._-]+@[a-z0-9+._-]+\\.[a-z0-9+_-]+\\b)',x))"
      ],
      "execution_count": null,
      "outputs": []
    },
    {
      "cell_type": "code",
      "metadata": {
        "id": "iTLPbqoIvSE_"
      },
      "source": [
        "df['emails_count'] = df['emails'].apply(lambda x: len(x))"
      ],
      "execution_count": null,
      "outputs": []
    },
    {
      "cell_type": "code",
      "metadata": {
        "colab": {
          "base_uri": "https://localhost:8080/",
          "height": 131
        },
        "id": "XKL169jUvu8b",
        "outputId": "9f641a36-1323-4703-f046-7bb979a904c3"
      },
      "source": [
        "df[df['emails_count']>0]"
      ],
      "execution_count": null,
      "outputs": [
        {
          "output_type": "execute_result",
          "data": {
            "text/html": [
              "<div>\n",
              "<style scoped>\n",
              "    .dataframe tbody tr th:only-of-type {\n",
              "        vertical-align: middle;\n",
              "    }\n",
              "\n",
              "    .dataframe tbody tr th {\n",
              "        vertical-align: top;\n",
              "    }\n",
              "\n",
              "    .dataframe thead th {\n",
              "        text-align: right;\n",
              "    }\n",
              "</style>\n",
              "<table border=\"1\" class=\"dataframe\">\n",
              "  <thead>\n",
              "    <tr style=\"text-align: right;\">\n",
              "      <th></th>\n",
              "      <th>twitts</th>\n",
              "      <th>sentiment</th>\n",
              "      <th>word_counts</th>\n",
              "      <th>char_counts</th>\n",
              "      <th>avg_word_len</th>\n",
              "      <th>stop_words_len</th>\n",
              "      <th>hastag_count</th>\n",
              "      <th>mention_count</th>\n",
              "      <th>numeric_counts</th>\n",
              "      <th>upper_counts</th>\n",
              "      <th>emails</th>\n",
              "      <th>emails_count</th>\n",
              "    </tr>\n",
              "  </thead>\n",
              "  <tbody>\n",
              "    <tr>\n",
              "      <th>3713</th>\n",
              "      <td>@securerecs arghh me please  markbradbury_16@h...</td>\n",
              "      <td>1</td>\n",
              "      <td>5</td>\n",
              "      <td>51</td>\n",
              "      <td>10.2</td>\n",
              "      <td>0</td>\n",
              "      <td>0</td>\n",
              "      <td>1</td>\n",
              "      <td>0</td>\n",
              "      <td>0</td>\n",
              "      <td>[markbradbury_16@hotmail.com]</td>\n",
              "      <td>1</td>\n",
              "    </tr>\n",
              "  </tbody>\n",
              "</table>\n",
              "</div>"
            ],
            "text/plain": [
              "                                                 twitts  ...  emails_count\n",
              "3713  @securerecs arghh me please  markbradbury_16@h...  ...             1\n",
              "\n",
              "[1 rows x 12 columns]"
            ]
          },
          "metadata": {
            "tags": []
          },
          "execution_count": 46
        }
      ]
    },
    {
      "cell_type": "code",
      "metadata": {
        "colab": {
          "base_uri": "https://localhost:8080/",
          "height": 35
        },
        "id": "0Ac2iZfov0Yc",
        "outputId": "c5a46923-8fe4-4bd9-b7c6-c2f9523d7812"
      },
      "source": [
        "re.sub(r'([a-z0-9+._-]+@[a-z0-9+._-]+\\.[a-z0-9+_-]+\\b)',\"\",x)"
      ],
      "execution_count": null,
      "outputs": [
        {
          "output_type": "execute_result",
          "data": {
            "application/vnd.google.colaboratory.intrinsic+json": {
              "type": "string"
            },
            "text/plain": [
              "'@securereces arghh me please '"
            ]
          },
          "metadata": {
            "tags": []
          },
          "execution_count": 47
        }
      ]
    },
    {
      "cell_type": "code",
      "metadata": {
        "id": "e9TBCXwSwrVY"
      },
      "source": [
        "df['twitts']=df['twitts'].apply(lambda x:re.sub(r'([a-z0-9+._-]+@[a-z0-9+._-]+\\.[a-z0-9+_-]+\\b)',\"\",x))"
      ],
      "execution_count": null,
      "outputs": []
    },
    {
      "cell_type": "code",
      "metadata": {
        "colab": {
          "base_uri": "https://localhost:8080/"
        },
        "id": "XIRZrgZRxAGz",
        "outputId": "f4deee00-99b9-4aba-e670-6a98afb7ad52"
      },
      "source": [
        "#Count URLs and Remove it\n",
        "x = 'hi thanks for watching my video, for more please login to https://stackoverflow.com/questions/19790188/expanding-english-language-contractions-in-python'\n",
        "re.findall(r'(http|https|ftp|ssh)://([\\w_-]+(?:(?:\\.[\\w_-]+)+))([\\w.,@?^=%&:/~+#-]*[\\w@?^=%&/~+#-])?',x)"
      ],
      "execution_count": null,
      "outputs": [
        {
          "output_type": "execute_result",
          "data": {
            "text/plain": [
              "[('https',\n",
              "  'stackoverflow.com',\n",
              "  '/questions/19790188/expanding-english-language-contractions-in-python')]"
            ]
          },
          "metadata": {
            "tags": []
          },
          "execution_count": 49
        }
      ]
    },
    {
      "cell_type": "code",
      "metadata": {
        "id": "bZqlS7D_XYvw"
      },
      "source": [
        "df['url_flags'] = df['twitts'].apply(lambda x:len(re.findall(r'(http|https|ftp|ssh)://([\\w_-]+(?:(?:\\.[\\w_-]+)+))([\\w.,@?^=%&:/~+#-]*[\\w@?^=%&/~+#-])?',x)))"
      ],
      "execution_count": null,
      "outputs": []
    },
    {
      "cell_type": "code",
      "metadata": {
        "colab": {
          "base_uri": "https://localhost:8080/",
          "height": 197
        },
        "id": "vfZkb9LrZSiS",
        "outputId": "7cbb5aa8-f2bb-450a-a473-928f6d895970"
      },
      "source": [
        "df.sample()"
      ],
      "execution_count": null,
      "outputs": [
        {
          "output_type": "execute_result",
          "data": {
            "text/html": [
              "<div>\n",
              "<style scoped>\n",
              "    .dataframe tbody tr th:only-of-type {\n",
              "        vertical-align: middle;\n",
              "    }\n",
              "\n",
              "    .dataframe tbody tr th {\n",
              "        vertical-align: top;\n",
              "    }\n",
              "\n",
              "    .dataframe thead th {\n",
              "        text-align: right;\n",
              "    }\n",
              "</style>\n",
              "<table border=\"1\" class=\"dataframe\">\n",
              "  <thead>\n",
              "    <tr style=\"text-align: right;\">\n",
              "      <th></th>\n",
              "      <th>twitts</th>\n",
              "      <th>sentiment</th>\n",
              "      <th>word_counts</th>\n",
              "      <th>char_counts</th>\n",
              "      <th>avg_word_len</th>\n",
              "      <th>stop_words_len</th>\n",
              "      <th>hastag_count</th>\n",
              "      <th>mention_count</th>\n",
              "      <th>numeric_counts</th>\n",
              "      <th>upper_counts</th>\n",
              "      <th>emails</th>\n",
              "      <th>emails_count</th>\n",
              "      <th>url_flags</th>\n",
              "    </tr>\n",
              "  </thead>\n",
              "  <tbody>\n",
              "    <tr>\n",
              "      <th>1356</th>\n",
              "      <td>miss school already...  i wanna go to school a...</td>\n",
              "      <td>0</td>\n",
              "      <td>24</td>\n",
              "      <td>107</td>\n",
              "      <td>4.458333</td>\n",
              "      <td>13</td>\n",
              "      <td>0</td>\n",
              "      <td>0</td>\n",
              "      <td>0</td>\n",
              "      <td>0</td>\n",
              "      <td>[]</td>\n",
              "      <td>0</td>\n",
              "      <td>0</td>\n",
              "    </tr>\n",
              "  </tbody>\n",
              "</table>\n",
              "</div>"
            ],
            "text/plain": [
              "                                                 twitts  ...  url_flags\n",
              "1356  miss school already...  i wanna go to school a...  ...          0\n",
              "\n",
              "[1 rows x 13 columns]"
            ]
          },
          "metadata": {
            "tags": []
          },
          "execution_count": 51
        }
      ]
    },
    {
      "cell_type": "code",
      "metadata": {
        "colab": {
          "base_uri": "https://localhost:8080/",
          "height": 35
        },
        "id": "hb9n8-AoZU7Q",
        "outputId": "8cf956fd-d9bb-4ed8-991e-52fa5ac28a16"
      },
      "source": [
        "df.iloc[3209]['twitts']"
      ],
      "execution_count": null,
      "outputs": [
        {
          "output_type": "execute_result",
          "data": {
            "application/vnd.google.colaboratory.intrinsic+json": {
              "type": "string"
            },
            "text/plain": [
              "'feeling so unmotivated today  need some art in my life. . . artomatic after my house work is done  yay'"
            ]
          },
          "metadata": {
            "tags": []
          },
          "execution_count": 52
        }
      ]
    },
    {
      "cell_type": "code",
      "metadata": {
        "id": "qf7L_faPZcQx"
      },
      "source": [
        "df['twitts'] = df['twitts'].apply(lambda x: re.sub(r'(http|https|ftp|ssh)://([\\w_-]+(?:(?:\\.[\\w_-]+)+))([\\w.,@?^=%&:/~+#-]*[\\w@?^=%&/~+#-])?','',x))"
      ],
      "execution_count": null,
      "outputs": []
    },
    {
      "cell_type": "code",
      "metadata": {
        "colab": {
          "base_uri": "https://localhost:8080/",
          "height": 401
        },
        "id": "6Ox7anWzanHJ",
        "outputId": "7ef4f4f7-738e-46e5-d163-8b68e2e98346"
      },
      "source": [
        "df.sample(5)"
      ],
      "execution_count": null,
      "outputs": [
        {
          "output_type": "execute_result",
          "data": {
            "text/html": [
              "<div>\n",
              "<style scoped>\n",
              "    .dataframe tbody tr th:only-of-type {\n",
              "        vertical-align: middle;\n",
              "    }\n",
              "\n",
              "    .dataframe tbody tr th {\n",
              "        vertical-align: top;\n",
              "    }\n",
              "\n",
              "    .dataframe thead th {\n",
              "        text-align: right;\n",
              "    }\n",
              "</style>\n",
              "<table border=\"1\" class=\"dataframe\">\n",
              "  <thead>\n",
              "    <tr style=\"text-align: right;\">\n",
              "      <th></th>\n",
              "      <th>twitts</th>\n",
              "      <th>sentiment</th>\n",
              "      <th>word_counts</th>\n",
              "      <th>char_counts</th>\n",
              "      <th>avg_word_len</th>\n",
              "      <th>stop_words_len</th>\n",
              "      <th>hastag_count</th>\n",
              "      <th>mention_count</th>\n",
              "      <th>numeric_counts</th>\n",
              "      <th>upper_counts</th>\n",
              "      <th>emails</th>\n",
              "      <th>emails_count</th>\n",
              "      <th>url_flags</th>\n",
              "    </tr>\n",
              "  </thead>\n",
              "  <tbody>\n",
              "    <tr>\n",
              "      <th>3220</th>\n",
              "      <td>is being eco-friendly</td>\n",
              "      <td>1</td>\n",
              "      <td>3</td>\n",
              "      <td>19</td>\n",
              "      <td>6.333333</td>\n",
              "      <td>2</td>\n",
              "      <td>0</td>\n",
              "      <td>0</td>\n",
              "      <td>0</td>\n",
              "      <td>0</td>\n",
              "      <td>[]</td>\n",
              "      <td>0</td>\n",
              "      <td>0</td>\n",
              "    </tr>\n",
              "    <tr>\n",
              "      <th>338</th>\n",
              "      <td>in bed alone again  that has / that is what ha...</td>\n",
              "      <td>0</td>\n",
              "      <td>28</td>\n",
              "      <td>109</td>\n",
              "      <td>3.892857</td>\n",
              "      <td>8</td>\n",
              "      <td>0</td>\n",
              "      <td>1</td>\n",
              "      <td>0</td>\n",
              "      <td>1</td>\n",
              "      <td>[]</td>\n",
              "      <td>0</td>\n",
              "      <td>0</td>\n",
              "    </tr>\n",
              "    <tr>\n",
              "      <th>2269</th>\n",
              "      <td>ahhh my hair burns it feels like a perm....ugh...</td>\n",
              "      <td>1</td>\n",
              "      <td>16</td>\n",
              "      <td>61</td>\n",
              "      <td>3.812500</td>\n",
              "      <td>8</td>\n",
              "      <td>0</td>\n",
              "      <td>0</td>\n",
              "      <td>0</td>\n",
              "      <td>0</td>\n",
              "      <td>[]</td>\n",
              "      <td>0</td>\n",
              "      <td>0</td>\n",
              "    </tr>\n",
              "    <tr>\n",
              "      <th>904</th>\n",
              "      <td>@pdaisyjewelry  i'm right there with you.  it ...</td>\n",
              "      <td>0</td>\n",
              "      <td>16</td>\n",
              "      <td>82</td>\n",
              "      <td>5.125000</td>\n",
              "      <td>6</td>\n",
              "      <td>0</td>\n",
              "      <td>1</td>\n",
              "      <td>0</td>\n",
              "      <td>0</td>\n",
              "      <td>[]</td>\n",
              "      <td>0</td>\n",
              "      <td>0</td>\n",
              "    </tr>\n",
              "    <tr>\n",
              "      <th>2865</th>\n",
              "      <td>under the shower, later on shopping</td>\n",
              "      <td>1</td>\n",
              "      <td>6</td>\n",
              "      <td>30</td>\n",
              "      <td>5.000000</td>\n",
              "      <td>3</td>\n",
              "      <td>0</td>\n",
              "      <td>0</td>\n",
              "      <td>0</td>\n",
              "      <td>0</td>\n",
              "      <td>[]</td>\n",
              "      <td>0</td>\n",
              "      <td>0</td>\n",
              "    </tr>\n",
              "  </tbody>\n",
              "</table>\n",
              "</div>"
            ],
            "text/plain": [
              "                                                 twitts  ...  url_flags\n",
              "3220                             is being eco-friendly   ...          0\n",
              "338   in bed alone again  that has / that is what ha...  ...          0\n",
              "2269  ahhh my hair burns it feels like a perm....ugh...  ...          0\n",
              "904   @pdaisyjewelry  i'm right there with you.  it ...  ...          0\n",
              "2865               under the shower, later on shopping   ...          0\n",
              "\n",
              "[5 rows x 13 columns]"
            ]
          },
          "metadata": {
            "tags": []
          },
          "execution_count": 54
        }
      ]
    },
    {
      "cell_type": "code",
      "metadata": {
        "colab": {
          "base_uri": "https://localhost:8080/",
          "height": 67
        },
        "id": "2H8MX1QnapZG",
        "outputId": "715848a2-93dd-4867-c6f7-623db2d80271"
      },
      "source": [
        "#Remove RT(Re Twitte)\n",
        "df[df['twitts'].str.contains(' rt: ')]"
      ],
      "execution_count": null,
      "outputs": [
        {
          "output_type": "execute_result",
          "data": {
            "text/html": [
              "<div>\n",
              "<style scoped>\n",
              "    .dataframe tbody tr th:only-of-type {\n",
              "        vertical-align: middle;\n",
              "    }\n",
              "\n",
              "    .dataframe tbody tr th {\n",
              "        vertical-align: top;\n",
              "    }\n",
              "\n",
              "    .dataframe thead th {\n",
              "        text-align: right;\n",
              "    }\n",
              "</style>\n",
              "<table border=\"1\" class=\"dataframe\">\n",
              "  <thead>\n",
              "    <tr style=\"text-align: right;\">\n",
              "      <th></th>\n",
              "      <th>twitts</th>\n",
              "      <th>sentiment</th>\n",
              "      <th>word_counts</th>\n",
              "      <th>char_counts</th>\n",
              "      <th>avg_word_len</th>\n",
              "      <th>stop_words_len</th>\n",
              "      <th>hastag_count</th>\n",
              "      <th>mention_count</th>\n",
              "      <th>numeric_counts</th>\n",
              "      <th>upper_counts</th>\n",
              "      <th>emails</th>\n",
              "      <th>emails_count</th>\n",
              "      <th>url_flags</th>\n",
              "    </tr>\n",
              "  </thead>\n",
              "  <tbody>\n",
              "  </tbody>\n",
              "</table>\n",
              "</div>"
            ],
            "text/plain": [
              "Empty DataFrame\n",
              "Columns: [twitts, sentiment, word_counts, char_counts, avg_word_len, stop_words_len, hastag_count, mention_count, numeric_counts, upper_counts, emails, emails_count, url_flags]\n",
              "Index: []"
            ]
          },
          "metadata": {
            "tags": []
          },
          "execution_count": 55
        }
      ]
    },
    {
      "cell_type": "code",
      "metadata": {
        "colab": {
          "base_uri": "https://localhost:8080/",
          "height": 35
        },
        "id": "GV-c0MK-btTx",
        "outputId": "48e93739-2dc7-4954-a673-37881dd20703"
      },
      "source": [
        "x = 'rt @username: hello hirt'\n",
        "re.sub(r'\\brt\\b','',x).strip()"
      ],
      "execution_count": null,
      "outputs": [
        {
          "output_type": "execute_result",
          "data": {
            "application/vnd.google.colaboratory.intrinsic+json": {
              "type": "string"
            },
            "text/plain": [
              "'@username: hello hirt'"
            ]
          },
          "metadata": {
            "tags": []
          },
          "execution_count": 56
        }
      ]
    },
    {
      "cell_type": "code",
      "metadata": {
        "id": "Sw68GUz8cFew"
      },
      "source": [
        "df['twitts']=df['twitts'].apply(lambda x: re.sub(r'\\brt\\b','',x).strip())"
      ],
      "execution_count": null,
      "outputs": []
    },
    {
      "cell_type": "code",
      "metadata": {
        "colab": {
          "base_uri": "https://localhost:8080/",
          "height": 35
        },
        "id": "9gOcpJM-cbWI",
        "outputId": "d11ab3a2-ba1f-4102-c20e-72db539fa60e"
      },
      "source": [
        "#Special character and punctuation removal\n",
        "x='@misskpey awwww dnt dis brng bak memoriessss,'\n",
        "re.sub(r'[^\\w ]+',\"\",x)"
      ],
      "execution_count": null,
      "outputs": [
        {
          "output_type": "execute_result",
          "data": {
            "application/vnd.google.colaboratory.intrinsic+json": {
              "type": "string"
            },
            "text/plain": [
              "'misskpey awwww dnt dis brng bak memoriessss'"
            ]
          },
          "metadata": {
            "tags": []
          },
          "execution_count": 58
        }
      ]
    },
    {
      "cell_type": "code",
      "metadata": {
        "id": "zlwLcbDYdWxe"
      },
      "source": [
        "df['twitts']=df['twitts'].apply(lambda x: re.sub(r'[^\\w ]+',\"\",x))"
      ],
      "execution_count": null,
      "outputs": []
    },
    {
      "cell_type": "code",
      "metadata": {
        "colab": {
          "base_uri": "https://localhost:8080/",
          "height": 584
        },
        "id": "_icQU4kxdtAa",
        "outputId": "8e3180cc-3e70-4d91-8535-273f7cfca669"
      },
      "source": [
        "df.sample(5)"
      ],
      "execution_count": null,
      "outputs": [
        {
          "output_type": "execute_result",
          "data": {
            "text/html": [
              "<div>\n",
              "<style scoped>\n",
              "    .dataframe tbody tr th:only-of-type {\n",
              "        vertical-align: middle;\n",
              "    }\n",
              "\n",
              "    .dataframe tbody tr th {\n",
              "        vertical-align: top;\n",
              "    }\n",
              "\n",
              "    .dataframe thead th {\n",
              "        text-align: right;\n",
              "    }\n",
              "</style>\n",
              "<table border=\"1\" class=\"dataframe\">\n",
              "  <thead>\n",
              "    <tr style=\"text-align: right;\">\n",
              "      <th></th>\n",
              "      <th>twitts</th>\n",
              "      <th>sentiment</th>\n",
              "      <th>word_counts</th>\n",
              "      <th>char_counts</th>\n",
              "      <th>avg_word_len</th>\n",
              "      <th>stop_words_len</th>\n",
              "      <th>hastag_count</th>\n",
              "      <th>mention_count</th>\n",
              "      <th>numeric_counts</th>\n",
              "      <th>upper_counts</th>\n",
              "      <th>emails</th>\n",
              "      <th>emails_count</th>\n",
              "      <th>url_flags</th>\n",
              "    </tr>\n",
              "  </thead>\n",
              "  <tbody>\n",
              "    <tr>\n",
              "      <th>1843</th>\n",
              "      <td>mjtarry i cannot reply to your msn messages co...</td>\n",
              "      <td>0</td>\n",
              "      <td>13</td>\n",
              "      <td>58</td>\n",
              "      <td>4.461538</td>\n",
              "      <td>3</td>\n",
              "      <td>0</td>\n",
              "      <td>1</td>\n",
              "      <td>0</td>\n",
              "      <td>1</td>\n",
              "      <td>[]</td>\n",
              "      <td>0</td>\n",
              "      <td>0</td>\n",
              "    </tr>\n",
              "    <tr>\n",
              "      <th>244</th>\n",
              "      <td>oh my actual god i just picked up a spider thi...</td>\n",
              "      <td>0</td>\n",
              "      <td>19</td>\n",
              "      <td>83</td>\n",
              "      <td>4.368421</td>\n",
              "      <td>9</td>\n",
              "      <td>0</td>\n",
              "      <td>0</td>\n",
              "      <td>0</td>\n",
              "      <td>0</td>\n",
              "      <td>[]</td>\n",
              "      <td>0</td>\n",
              "      <td>0</td>\n",
              "    </tr>\n",
              "    <tr>\n",
              "      <th>1579</th>\n",
              "      <td>next is gljufura on july 2nd was a week too ea...</td>\n",
              "      <td>0</td>\n",
              "      <td>25</td>\n",
              "      <td>110</td>\n",
              "      <td>4.400000</td>\n",
              "      <td>8</td>\n",
              "      <td>0</td>\n",
              "      <td>0</td>\n",
              "      <td>0</td>\n",
              "      <td>0</td>\n",
              "      <td>[]</td>\n",
              "      <td>0</td>\n",
              "      <td>0</td>\n",
              "    </tr>\n",
              "    <tr>\n",
              "      <th>2271</th>\n",
              "      <td>mzmraz yep yep  extremely tired already but we...</td>\n",
              "      <td>1</td>\n",
              "      <td>13</td>\n",
              "      <td>63</td>\n",
              "      <td>4.846154</td>\n",
              "      <td>3</td>\n",
              "      <td>0</td>\n",
              "      <td>1</td>\n",
              "      <td>0</td>\n",
              "      <td>1</td>\n",
              "      <td>[]</td>\n",
              "      <td>0</td>\n",
              "      <td>0</td>\n",
              "    </tr>\n",
              "    <tr>\n",
              "      <th>2001</th>\n",
              "      <td>seriouz973 heyy yuuu welcummm</td>\n",
              "      <td>1</td>\n",
              "      <td>4</td>\n",
              "      <td>28</td>\n",
              "      <td>7.000000</td>\n",
              "      <td>0</td>\n",
              "      <td>0</td>\n",
              "      <td>1</td>\n",
              "      <td>0</td>\n",
              "      <td>0</td>\n",
              "      <td>[]</td>\n",
              "      <td>0</td>\n",
              "      <td>0</td>\n",
              "    </tr>\n",
              "  </tbody>\n",
              "</table>\n",
              "</div>"
            ],
            "text/plain": [
              "                                                 twitts  ...  url_flags\n",
              "1843  mjtarry i cannot reply to your msn messages co...  ...          0\n",
              "244   oh my actual god i just picked up a spider thi...  ...          0\n",
              "1579  next is gljufura on july 2nd was a week too ea...  ...          0\n",
              "2271  mzmraz yep yep  extremely tired already but we...  ...          0\n",
              "2001                      seriouz973 heyy yuuu welcummm  ...          0\n",
              "\n",
              "[5 rows x 13 columns]"
            ]
          },
          "metadata": {
            "tags": []
          },
          "execution_count": 60
        }
      ]
    },
    {
      "cell_type": "code",
      "metadata": {
        "id": "LmqX5bNbdvZB"
      },
      "source": [
        "# Remove multiple spaces\n",
        "x='hi         hello                           good'"
      ],
      "execution_count": null,
      "outputs": []
    },
    {
      "cell_type": "code",
      "metadata": {
        "colab": {
          "base_uri": "https://localhost:8080/",
          "height": 35
        },
        "id": "zuqTaHoMeIen",
        "outputId": "b3b7ceac-109b-437e-b29b-f11aaeed7881"
      },
      "source": [
        "' '.join(x.split())"
      ],
      "execution_count": null,
      "outputs": [
        {
          "output_type": "execute_result",
          "data": {
            "application/vnd.google.colaboratory.intrinsic+json": {
              "type": "string"
            },
            "text/plain": [
              "'hi hello good'"
            ]
          },
          "metadata": {
            "tags": []
          },
          "execution_count": 62
        }
      ]
    },
    {
      "cell_type": "code",
      "metadata": {
        "id": "15ha2WJYeNs3"
      },
      "source": [
        "df['twitts']=df['twitts'].apply(lambda x:' '.join(x.split()))"
      ],
      "execution_count": null,
      "outputs": []
    },
    {
      "cell_type": "code",
      "metadata": {
        "colab": {
          "base_uri": "https://localhost:8080/",
          "height": 387
        },
        "id": "IGr0R-Ojemx1",
        "outputId": "e5ebb7e8-876d-4b0c-98f7-7a997de76464"
      },
      "source": [
        "df.sample(4)"
      ],
      "execution_count": null,
      "outputs": [
        {
          "output_type": "execute_result",
          "data": {
            "text/html": [
              "<div>\n",
              "<style scoped>\n",
              "    .dataframe tbody tr th:only-of-type {\n",
              "        vertical-align: middle;\n",
              "    }\n",
              "\n",
              "    .dataframe tbody tr th {\n",
              "        vertical-align: top;\n",
              "    }\n",
              "\n",
              "    .dataframe thead th {\n",
              "        text-align: right;\n",
              "    }\n",
              "</style>\n",
              "<table border=\"1\" class=\"dataframe\">\n",
              "  <thead>\n",
              "    <tr style=\"text-align: right;\">\n",
              "      <th></th>\n",
              "      <th>twitts</th>\n",
              "      <th>sentiment</th>\n",
              "      <th>word_counts</th>\n",
              "      <th>char_counts</th>\n",
              "      <th>avg_word_len</th>\n",
              "      <th>stop_words_len</th>\n",
              "      <th>hastag_count</th>\n",
              "      <th>mention_count</th>\n",
              "      <th>numeric_counts</th>\n",
              "      <th>upper_counts</th>\n",
              "      <th>emails</th>\n",
              "      <th>emails_count</th>\n",
              "      <th>url_flags</th>\n",
              "    </tr>\n",
              "  </thead>\n",
              "  <tbody>\n",
              "    <tr>\n",
              "      <th>209</th>\n",
              "      <td>atampt quotyou have 4 bars of 3g oh wait you w...</td>\n",
              "      <td>0</td>\n",
              "      <td>22</td>\n",
              "      <td>105</td>\n",
              "      <td>4.772727</td>\n",
              "      <td>7</td>\n",
              "      <td>0</td>\n",
              "      <td>0</td>\n",
              "      <td>2</td>\n",
              "      <td>1</td>\n",
              "      <td>[]</td>\n",
              "      <td>0</td>\n",
              "      <td>0</td>\n",
              "    </tr>\n",
              "    <tr>\n",
              "      <th>3943</th>\n",
              "      <td>just had hboy make us masala sodalikes</td>\n",
              "      <td>1</td>\n",
              "      <td>7</td>\n",
              "      <td>36</td>\n",
              "      <td>5.142857</td>\n",
              "      <td>4</td>\n",
              "      <td>0</td>\n",
              "      <td>0</td>\n",
              "      <td>0</td>\n",
              "      <td>0</td>\n",
              "      <td>[]</td>\n",
              "      <td>0</td>\n",
              "      <td>0</td>\n",
              "    </tr>\n",
              "    <tr>\n",
              "      <th>3226</th>\n",
              "      <td>my first twwweeeeeettt yeeeah</td>\n",
              "      <td>1</td>\n",
              "      <td>4</td>\n",
              "      <td>26</td>\n",
              "      <td>6.500000</td>\n",
              "      <td>1</td>\n",
              "      <td>0</td>\n",
              "      <td>0</td>\n",
              "      <td>0</td>\n",
              "      <td>0</td>\n",
              "      <td>[]</td>\n",
              "      <td>0</td>\n",
              "      <td>0</td>\n",
              "    </tr>\n",
              "    <tr>\n",
              "      <th>3703</th>\n",
              "      <td>song of the day outta here by esmee denters a ...</td>\n",
              "      <td>1</td>\n",
              "      <td>23</td>\n",
              "      <td>86</td>\n",
              "      <td>3.739130</td>\n",
              "      <td>13</td>\n",
              "      <td>0</td>\n",
              "      <td>0</td>\n",
              "      <td>0</td>\n",
              "      <td>0</td>\n",
              "      <td>[]</td>\n",
              "      <td>0</td>\n",
              "      <td>0</td>\n",
              "    </tr>\n",
              "  </tbody>\n",
              "</table>\n",
              "</div>"
            ],
            "text/plain": [
              "                                                 twitts  ...  url_flags\n",
              "209   atampt quotyou have 4 bars of 3g oh wait you w...  ...          0\n",
              "3943             just had hboy make us masala sodalikes  ...          0\n",
              "3226                      my first twwweeeeeettt yeeeah  ...          0\n",
              "3703  song of the day outta here by esmee denters a ...  ...          0\n",
              "\n",
              "[4 rows x 13 columns]"
            ]
          },
          "metadata": {
            "tags": []
          },
          "execution_count": 64
        }
      ]
    },
    {
      "cell_type": "code",
      "metadata": {
        "id": "6RNeJxzGeopH"
      },
      "source": [
        "#Remove HTML tags\n",
        "from bs4 import BeautifulSoup\n",
        "x = '<html><h1> thanks for watching it </h1></html>'"
      ],
      "execution_count": null,
      "outputs": []
    },
    {
      "cell_type": "code",
      "metadata": {
        "colab": {
          "base_uri": "https://localhost:8080/",
          "height": 35
        },
        "id": "CZvJrOZhov-K",
        "outputId": "6f4459fc-4b2f-4253-d68b-6b4100b09270"
      },
      "source": [
        "BeautifulSoup(x,'lxml').get_text().strip()"
      ],
      "execution_count": null,
      "outputs": [
        {
          "output_type": "execute_result",
          "data": {
            "application/vnd.google.colaboratory.intrinsic+json": {
              "type": "string"
            },
            "text/plain": [
              "'thanks for watching it'"
            ]
          },
          "metadata": {
            "tags": []
          },
          "execution_count": 66
        }
      ]
    },
    {
      "cell_type": "code",
      "metadata": {
        "colab": {
          "base_uri": "https://localhost:8080/"
        },
        "id": "C6ASqwWnpXZ6",
        "outputId": "a8d95f7c-6059-4a39-8988-c02384316e94"
      },
      "source": [
        "%%time\n",
        "df['twitts'] = df['twitts'].apply(lambda x: BeautifulSoup(x,'lxml').get_text().strip() )"
      ],
      "execution_count": null,
      "outputs": [
        {
          "output_type": "stream",
          "text": [
            "CPU times: user 723 ms, sys: 35.9 ms, total: 759 ms\n",
            "Wall time: 761 ms\n"
          ],
          "name": "stdout"
        }
      ]
    },
    {
      "cell_type": "code",
      "metadata": {
        "id": "NDelxLSEp2rL"
      },
      "source": [
        "#Remove accented chars\n",
        "x = 'à , á , â , ä , å , ã , æ'\n",
        "import unicodedata"
      ],
      "execution_count": null,
      "outputs": []
    },
    {
      "cell_type": "code",
      "metadata": {
        "id": "y241edBWxe1g"
      },
      "source": [
        "def remove_accented_chars(x):\n",
        "  x = unicodedata.normalize('NFKD',x).encode('ascii','ignore').decode('utf-8','ignore')\n",
        "  return x"
      ],
      "execution_count": null,
      "outputs": []
    },
    {
      "cell_type": "code",
      "metadata": {
        "colab": {
          "base_uri": "https://localhost:8080/",
          "height": 35
        },
        "id": "tQlrO5IwyE8G",
        "outputId": "3d103384-5e41-4df9-edb8-df7176d9807c"
      },
      "source": [
        "remove_accented_chars(x)"
      ],
      "execution_count": null,
      "outputs": [
        {
          "output_type": "execute_result",
          "data": {
            "application/vnd.google.colaboratory.intrinsic+json": {
              "type": "string"
            },
            "text/plain": [
              "'a , a , a , a , a , a , '"
            ]
          },
          "metadata": {
            "tags": []
          },
          "execution_count": 70
        }
      ]
    },
    {
      "cell_type": "code",
      "metadata": {
        "id": "IKyvye6vyLa-"
      },
      "source": [
        "df['twitts'] = df['twitts'].apply(lambda x:remove_accented_chars(x))"
      ],
      "execution_count": null,
      "outputs": []
    },
    {
      "cell_type": "code",
      "metadata": {
        "colab": {
          "base_uri": "https://localhost:8080/"
        },
        "id": "Bq8z_HhAyo4R",
        "outputId": "5b8780c2-58bf-4579-8e7a-881d179d87de"
      },
      "source": [
        "#Remove stop words\n",
        "print(stopwords)"
      ],
      "execution_count": null,
      "outputs": [
        {
          "output_type": "stream",
          "text": [
            "{'meanwhile', 'afterwards', 'nevertheless', 'must', 'via', 'whereafter', '‘ll', 'when', 'first', 'anyhow', '’ve', 'indeed', 'therefore', 'third', 'though', 'except', 'everything', 'whose', 'everywhere', 'wherever', 'whole', 'seems', 'us', 'yet', 'forty', 'yourselves', 'besides', 'if', 'another', 'off', 'whenever', 'i', 'really', 'whether', 'while', 'therein', 'whence', \"'m\", 'various', 'almost', 'does', 'fifty', 'other', 'something', 'put', 'their', 're', 'empty', 'have', 'nobody', 'most', 'thereafter', 'even', 'however', 'least', 'out', 'nowhere', 'beforehand', 'an', 'whither', 'within', 'cannot', 'hereafter', 'again', 'elsewhere', 'perhaps', 'which', 'why', \"'ll\", 'with', 'full', 'itself', 'back', 'serious', 'alone', 'about', 'becoming', 'do', 'front', 'over', 'onto', 'am', 'anyone', 'whereupon', 'could', 'are', 'not', 'whoever', 'becomes', 'around', 'ours', '‘d', 'would', 'we', 'for', 'both', 'such', 'up', 'few', 'take', 'name', 'herein', 'myself', 'thereupon', 'whereby', '’ll', 'all', 'they', \"'s\", 'call', 'regarding', 'rather', 'formerly', 'along', 'amount', 'beyond', 'somewhere', 'whom', 'bottom', 'did', 'how', 'these', 'down', 'himself', 'mostly', 'you', 'its', 'ca', 'per', 'as', 'done', 'he', 'already', 'show', 'move', 'latter', 'there', 'three', 'mine', 'nor', 'never', 'once', 'our', 'should', 'sometime', 'say', 'was', 'without', 'anywhere', 'enough', 'fifteen', 'although', 'me', 'some', 'side', 'go', 'wherein', 'my', 'here', '‘re', 'top', 'used', 'herself', 'always', 'six', 'that', 'since', 'part', 'together', 'give', 'whatever', 'latterly', 'might', 'more', 'else', 'her', 'is', 'above', 'hence', 'under', 'often', 'neither', 'anyway', 'last', 'next', 'someone', 'too', 'using', 'none', 'toward', 'whereas', \"'d\", 'each', 'sixty', 'and', 'due', 'ever', 'former', 'in', 'only', 'thence', 'doing', 'what', 'before', 'please', 'further', 'same', 'yourself', 'otherwise', 'below', 'upon', 'get', 'has', '’d', 'also', 'unless', 'eight', 'make', 'anything', 'after', 'were', 'see', 'ten', 'on', 'among', 'be', 'amongst', 'several', 'hereby', 'others', 'yours', 'own', 'been', 'she', 'seem', 'than', 'noone', \"'re\", 'to', 'twelve', 'hereupon', 'him', '’m', 'somehow', 'seeming', 'thus', 'his', 'sometimes', 'eleven', 'can', 'n‘t', 'hers', 'so', 'thereby', 'where', 'them', 'quite', '’s', 'seemed', 'until', 'at', 'this', 'because', '’re', 'just', 'a', 'every', 'of', 'any', 'namely', 'between', 'either', 'the', 'one', 'become', 'against', \"n't\", 'moreover', 'had', 'many', 'your', 'will', '‘ve', '‘m', 'thru', 'still', 'may', 'very', 'beside', 'but', 'it', 'throughout', 'made', 'no', 'being', 'nothing', 'nine', 'into', 'towards', 'through', 'n’t', 'across', 'or', \"'ve\", 'five', 'keep', 'less', 'became', '‘s', 'those', 'twenty', 'much', 'during', 'by', 'hundred', 'everyone', 'then', 'well', 'themselves', 'now', 'two', 'ourselves', 'behind', 'four', 'from', 'who'}\n"
          ],
          "name": "stdout"
        }
      ]
    },
    {
      "cell_type": "code",
      "metadata": {
        "colab": {
          "base_uri": "https://localhost:8080/",
          "height": 35
        },
        "id": "0wLEro2Yy2Xx",
        "outputId": "c5091cbf-709f-4261-d17c-d9e28aeb852f"
      },
      "source": [
        "x = 'this is a stop words'\n",
        "' '.join([t for t in x.split() if t not in stopwords])"
      ],
      "execution_count": null,
      "outputs": [
        {
          "output_type": "execute_result",
          "data": {
            "application/vnd.google.colaboratory.intrinsic+json": {
              "type": "string"
            },
            "text/plain": [
              "'stop words'"
            ]
          },
          "metadata": {
            "tags": []
          },
          "execution_count": 73
        }
      ]
    },
    {
      "cell_type": "code",
      "metadata": {
        "id": "dvzAXx7czLa5"
      },
      "source": [
        "df['twitts_no_stop'] = df['twitts'].apply(lambda x: ' '.join([t for t in x.split() if t not in stopwords]) )"
      ],
      "execution_count": null,
      "outputs": []
    },
    {
      "cell_type": "code",
      "metadata": {
        "colab": {
          "base_uri": "https://localhost:8080/",
          "height": 467
        },
        "id": "FetmTi6qzumj",
        "outputId": "07e72a99-959a-41f2-a348-74b46e720c37"
      },
      "source": [
        "df.sample(5)"
      ],
      "execution_count": null,
      "outputs": [
        {
          "output_type": "execute_result",
          "data": {
            "text/html": [
              "<div>\n",
              "<style scoped>\n",
              "    .dataframe tbody tr th:only-of-type {\n",
              "        vertical-align: middle;\n",
              "    }\n",
              "\n",
              "    .dataframe tbody tr th {\n",
              "        vertical-align: top;\n",
              "    }\n",
              "\n",
              "    .dataframe thead th {\n",
              "        text-align: right;\n",
              "    }\n",
              "</style>\n",
              "<table border=\"1\" class=\"dataframe\">\n",
              "  <thead>\n",
              "    <tr style=\"text-align: right;\">\n",
              "      <th></th>\n",
              "      <th>twitts</th>\n",
              "      <th>sentiment</th>\n",
              "      <th>word_counts</th>\n",
              "      <th>char_counts</th>\n",
              "      <th>avg_word_len</th>\n",
              "      <th>stop_words_len</th>\n",
              "      <th>hastag_count</th>\n",
              "      <th>mention_count</th>\n",
              "      <th>numeric_counts</th>\n",
              "      <th>upper_counts</th>\n",
              "      <th>emails</th>\n",
              "      <th>emails_count</th>\n",
              "      <th>url_flags</th>\n",
              "      <th>twitts_no_stop</th>\n",
              "    </tr>\n",
              "  </thead>\n",
              "  <tbody>\n",
              "    <tr>\n",
              "      <th>773</th>\n",
              "      <td>cashdolla why are you not at my house right now</td>\n",
              "      <td>0</td>\n",
              "      <td>10</td>\n",
              "      <td>42</td>\n",
              "      <td>4.200000</td>\n",
              "      <td>6</td>\n",
              "      <td>0</td>\n",
              "      <td>1</td>\n",
              "      <td>0</td>\n",
              "      <td>0</td>\n",
              "      <td>[]</td>\n",
              "      <td>0</td>\n",
              "      <td>0</td>\n",
              "      <td>cashdolla house right</td>\n",
              "    </tr>\n",
              "    <tr>\n",
              "      <th>918</th>\n",
              "      <td>qteepye1481 dang it was a mistake lmfao wat yo...</td>\n",
              "      <td>0</td>\n",
              "      <td>17</td>\n",
              "      <td>77</td>\n",
              "      <td>4.529412</td>\n",
              "      <td>4</td>\n",
              "      <td>0</td>\n",
              "      <td>1</td>\n",
              "      <td>0</td>\n",
              "      <td>0</td>\n",
              "      <td>[]</td>\n",
              "      <td>0</td>\n",
              "      <td>0</td>\n",
              "      <td>qteepye1481 dang mistake lmfao wat aint sendin...</td>\n",
              "    </tr>\n",
              "    <tr>\n",
              "      <th>2669</th>\n",
              "      <td>karageorgakis to me stop and share the music i...</td>\n",
              "      <td>1</td>\n",
              "      <td>21</td>\n",
              "      <td>86</td>\n",
              "      <td>4.095238</td>\n",
              "      <td>8</td>\n",
              "      <td>0</td>\n",
              "      <td>1</td>\n",
              "      <td>0</td>\n",
              "      <td>0</td>\n",
              "      <td>[]</td>\n",
              "      <td>0</td>\n",
              "      <td>0</td>\n",
              "      <td>karageorgakis stop share music like stop smell...</td>\n",
              "    </tr>\n",
              "    <tr>\n",
              "      <th>3276</th>\n",
              "      <td>paula_abdul_fan amp no i dont have it noone he...</td>\n",
              "      <td>1</td>\n",
              "      <td>10</td>\n",
              "      <td>47</td>\n",
              "      <td>4.700000</td>\n",
              "      <td>7</td>\n",
              "      <td>0</td>\n",
              "      <td>1</td>\n",
              "      <td>0</td>\n",
              "      <td>0</td>\n",
              "      <td>[]</td>\n",
              "      <td>0</td>\n",
              "      <td>0</td>\n",
              "      <td>paula_abdul_fan amp dont</td>\n",
              "    </tr>\n",
              "    <tr>\n",
              "      <th>92</th>\n",
              "      <td>kali_roll i miss my ringback tone but i have t...</td>\n",
              "      <td>0</td>\n",
              "      <td>13</td>\n",
              "      <td>55</td>\n",
              "      <td>4.230769</td>\n",
              "      <td>4</td>\n",
              "      <td>0</td>\n",
              "      <td>1</td>\n",
              "      <td>0</td>\n",
              "      <td>2</td>\n",
              "      <td>[]</td>\n",
              "      <td>0</td>\n",
              "      <td>0</td>\n",
              "      <td>kali_roll miss ringback tone automatic vm lol</td>\n",
              "    </tr>\n",
              "  </tbody>\n",
              "</table>\n",
              "</div>"
            ],
            "text/plain": [
              "                                                 twitts  ...                                     twitts_no_stop\n",
              "773     cashdolla why are you not at my house right now  ...                              cashdolla house right\n",
              "918   qteepye1481 dang it was a mistake lmfao wat yo...  ...  qteepye1481 dang mistake lmfao wat aint sendin...\n",
              "2669  karageorgakis to me stop and share the music i...  ...  karageorgakis stop share music like stop smell...\n",
              "3276  paula_abdul_fan amp no i dont have it noone he...  ...                           paula_abdul_fan amp dont\n",
              "92    kali_roll i miss my ringback tone but i have t...  ...      kali_roll miss ringback tone automatic vm lol\n",
              "\n",
              "[5 rows x 14 columns]"
            ]
          },
          "metadata": {
            "tags": []
          },
          "execution_count": 75
        }
      ]
    },
    {
      "cell_type": "code",
      "metadata": {
        "id": "TUtWkFZyzyW_"
      },
      "source": [
        "#Convert into base pr root form\n",
        "nlp = spacy.load('en_core_web_sm')\n",
        "x = 'choclates balls times'\n"
      ],
      "execution_count": null,
      "outputs": []
    },
    {
      "cell_type": "code",
      "metadata": {
        "id": "X4fLQJ-Z0Tky"
      },
      "source": [
        "nlp = spacy.load('en_core_web_sm')"
      ],
      "execution_count": null,
      "outputs": []
    },
    {
      "cell_type": "code",
      "metadata": {
        "id": "AbW4rvpM9DKK"
      },
      "source": [
        "def make_to_base(x):\n",
        "  x = str(x)\n",
        "  x_list = []\n",
        "  doc = nlp(x)\n",
        "\n",
        "  for token in doc:\n",
        "    lemma = token.lemma_\n",
        "\n",
        "    if lemma == '-PRON-' or lemma == 'be':\n",
        "      lemma = token.text\n",
        "\n",
        "    x_list.append(lemma)\n",
        "  return ' '.join(x_list)"
      ],
      "execution_count": null,
      "outputs": []
    },
    {
      "cell_type": "code",
      "metadata": {
        "colab": {
          "base_uri": "https://localhost:8080/",
          "height": 35
        },
        "id": "PDZBVtWk9kwn",
        "outputId": "6f7d7c2c-8114-4b96-b58e-71ec33b41613"
      },
      "source": [
        "x = 'this is choclates. what is times? this balls'\n",
        "make_to_base(x)"
      ],
      "execution_count": null,
      "outputs": [
        {
          "output_type": "execute_result",
          "data": {
            "application/vnd.google.colaboratory.intrinsic+json": {
              "type": "string"
            },
            "text/plain": [
              "'this is choclate . what is time ? this ball'"
            ]
          },
          "metadata": {
            "tags": []
          },
          "execution_count": 79
        }
      ]
    },
    {
      "cell_type": "code",
      "metadata": {
        "id": "UK64615_94mV"
      },
      "source": [
        "df['twitts'] = df['twitts'].apply(lambda x: make_to_base(x))"
      ],
      "execution_count": null,
      "outputs": []
    },
    {
      "cell_type": "code",
      "metadata": {
        "colab": {
          "base_uri": "https://localhost:8080/",
          "height": 551
        },
        "id": "v9n4YD10-WLG",
        "outputId": "19174c04-6db0-46a9-e170-7091031ec7c4"
      },
      "source": [
        "df.sample(5)"
      ],
      "execution_count": null,
      "outputs": [
        {
          "output_type": "execute_result",
          "data": {
            "text/html": [
              "<div>\n",
              "<style scoped>\n",
              "    .dataframe tbody tr th:only-of-type {\n",
              "        vertical-align: middle;\n",
              "    }\n",
              "\n",
              "    .dataframe tbody tr th {\n",
              "        vertical-align: top;\n",
              "    }\n",
              "\n",
              "    .dataframe thead th {\n",
              "        text-align: right;\n",
              "    }\n",
              "</style>\n",
              "<table border=\"1\" class=\"dataframe\">\n",
              "  <thead>\n",
              "    <tr style=\"text-align: right;\">\n",
              "      <th></th>\n",
              "      <th>twitts</th>\n",
              "      <th>sentiment</th>\n",
              "      <th>word_counts</th>\n",
              "      <th>char_counts</th>\n",
              "      <th>avg_word_len</th>\n",
              "      <th>stop_words_len</th>\n",
              "      <th>hastag_count</th>\n",
              "      <th>mention_count</th>\n",
              "      <th>numeric_counts</th>\n",
              "      <th>upper_counts</th>\n",
              "      <th>emails</th>\n",
              "      <th>emails_count</th>\n",
              "      <th>url_flags</th>\n",
              "      <th>twitts_no_stop</th>\n",
              "    </tr>\n",
              "  </thead>\n",
              "  <tbody>\n",
              "    <tr>\n",
              "      <th>1850</th>\n",
              "      <td>blacnic i know you do not luv me no more that ...</td>\n",
              "      <td>0</td>\n",
              "      <td>16</td>\n",
              "      <td>56</td>\n",
              "      <td>3.500000</td>\n",
              "      <td>5</td>\n",
              "      <td>0</td>\n",
              "      <td>1</td>\n",
              "      <td>0</td>\n",
              "      <td>1</td>\n",
              "      <td>[]</td>\n",
              "      <td>0</td>\n",
              "      <td>0</td>\n",
              "      <td>blacnic know luv y hittin</td>\n",
              "    </tr>\n",
              "    <tr>\n",
              "      <th>129</th>\n",
              "      <td>tommcfly why do you not respond me</td>\n",
              "      <td>0</td>\n",
              "      <td>7</td>\n",
              "      <td>30</td>\n",
              "      <td>4.285714</td>\n",
              "      <td>3</td>\n",
              "      <td>0</td>\n",
              "      <td>1</td>\n",
              "      <td>0</td>\n",
              "      <td>0</td>\n",
              "      <td>[]</td>\n",
              "      <td>0</td>\n",
              "      <td>0</td>\n",
              "      <td>tommcfly respond</td>\n",
              "    </tr>\n",
              "    <tr>\n",
              "      <th>2316</th>\n",
              "      <td>heya i am online nowcheck my web to chat with me</td>\n",
              "      <td>1</td>\n",
              "      <td>11</td>\n",
              "      <td>41</td>\n",
              "      <td>3.727273</td>\n",
              "      <td>5</td>\n",
              "      <td>0</td>\n",
              "      <td>0</td>\n",
              "      <td>0</td>\n",
              "      <td>1</td>\n",
              "      <td>[]</td>\n",
              "      <td>0</td>\n",
              "      <td>0</td>\n",
              "      <td>heya online nowcheck web chat</td>\n",
              "    </tr>\n",
              "    <tr>\n",
              "      <th>1414</th>\n",
              "      <td>so i m in the barbershop and i see this</td>\n",
              "      <td>0</td>\n",
              "      <td>11</td>\n",
              "      <td>60</td>\n",
              "      <td>5.454545</td>\n",
              "      <td>5</td>\n",
              "      <td>0</td>\n",
              "      <td>0</td>\n",
              "      <td>0</td>\n",
              "      <td>1</td>\n",
              "      <td>[]</td>\n",
              "      <td>0</td>\n",
              "      <td>1</td>\n",
              "      <td>im barbershop</td>\n",
              "    </tr>\n",
              "    <tr>\n",
              "      <th>1021</th>\n",
              "      <td>iamlittleboot someone that s not as good as yo...</td>\n",
              "      <td>0</td>\n",
              "      <td>15</td>\n",
              "      <td>69</td>\n",
              "      <td>4.600000</td>\n",
              "      <td>6</td>\n",
              "      <td>0</td>\n",
              "      <td>1</td>\n",
              "      <td>0</td>\n",
              "      <td>2</td>\n",
              "      <td>[]</td>\n",
              "      <td>0</td>\n",
              "      <td>0</td>\n",
              "      <td>iamlittleboots thats good hard find</td>\n",
              "    </tr>\n",
              "  </tbody>\n",
              "</table>\n",
              "</div>"
            ],
            "text/plain": [
              "                                                 twitts  ...                       twitts_no_stop\n",
              "1850  blacnic i know you do not luv me no more that ...  ...            blacnic know luv y hittin\n",
              "129                  tommcfly why do you not respond me  ...                     tommcfly respond\n",
              "2316   heya i am online nowcheck my web to chat with me  ...        heya online nowcheck web chat\n",
              "1414            so i m in the barbershop and i see this  ...                        im barbershop\n",
              "1021  iamlittleboot someone that s not as good as yo...  ...  iamlittleboots thats good hard find\n",
              "\n",
              "[5 rows x 14 columns]"
            ]
          },
          "metadata": {
            "tags": []
          },
          "execution_count": 81
        }
      ]
    },
    {
      "cell_type": "code",
      "metadata": {
        "id": "oC_mlJwC-lX4"
      },
      "source": [
        "#Common word removal\n",
        "x = 'this is mine and this is yours'"
      ],
      "execution_count": null,
      "outputs": []
    },
    {
      "cell_type": "code",
      "metadata": {
        "id": "AwYnp_9g--yy"
      },
      "source": [
        "text = ' '.join(df['twitts'])"
      ],
      "execution_count": null,
      "outputs": []
    },
    {
      "cell_type": "code",
      "metadata": {
        "colab": {
          "base_uri": "https://localhost:8080/"
        },
        "id": "B4tz5yCr_WRy",
        "outputId": "537e80e1-2199-4413-e794-32df75442a3a"
      },
      "source": [
        "len(text)"
      ],
      "execution_count": null,
      "outputs": [
        {
          "output_type": "execute_result",
          "data": {
            "text/plain": [
              "275917"
            ]
          },
          "metadata": {
            "tags": []
          },
          "execution_count": 84
        }
      ]
    },
    {
      "cell_type": "code",
      "metadata": {
        "id": "CdCnc0Q6_X6G"
      },
      "source": [
        "text = text.split()"
      ],
      "execution_count": null,
      "outputs": []
    },
    {
      "cell_type": "code",
      "metadata": {
        "colab": {
          "base_uri": "https://localhost:8080/"
        },
        "id": "VNrY0k-C_leW",
        "outputId": "d1bdf1cb-9879-41fa-c1db-6c80a6a40b3a"
      },
      "source": [
        "len(text)"
      ],
      "execution_count": null,
      "outputs": [
        {
          "output_type": "execute_result",
          "data": {
            "text/plain": [
              "54897"
            ]
          },
          "metadata": {
            "tags": []
          },
          "execution_count": 86
        }
      ]
    },
    {
      "cell_type": "code",
      "metadata": {
        "colab": {
          "base_uri": "https://localhost:8080/"
        },
        "id": "KjujILTl_nPO",
        "outputId": "c903f55e-2ab5-479a-acae-5dcdb326ee26"
      },
      "source": [
        "freq_comm = pd.Series(text).value_counts()\n",
        "freq_comm"
      ],
      "execution_count": null,
      "outputs": [
        {
          "output_type": "execute_result",
          "data": {
            "text/plain": [
              "i            2485\n",
              "to           1461\n",
              "the          1299\n",
              "have         1000\n",
              "a             964\n",
              "             ... \n",
              "instantly       1\n",
              "gurlie          1\n",
              "samantha        1\n",
              "kung            1\n",
              "snapvine        1\n",
              "Length: 9166, dtype: int64"
            ]
          },
          "metadata": {
            "tags": []
          },
          "execution_count": 87
        }
      ]
    },
    {
      "cell_type": "code",
      "metadata": {
        "id": "KpeCnB1Z_1Hp"
      },
      "source": [
        "f20 = freq_comm[:20]"
      ],
      "execution_count": null,
      "outputs": []
    },
    {
      "cell_type": "code",
      "metadata": {
        "colab": {
          "base_uri": "https://localhost:8080/"
        },
        "id": "LATJmhRNALvH",
        "outputId": "cd0351de-2e58-40de-c083-7aeaa0c0c8ae"
      },
      "source": [
        "f20"
      ],
      "execution_count": null,
      "outputs": [
        {
          "output_type": "execute_result",
          "data": {
            "text/plain": [
              "i       2485\n",
              "to      1461\n",
              "the     1299\n",
              "have    1000\n",
              "a        964\n",
              "not      916\n",
              "is       912\n",
              "you      911\n",
              "it       891\n",
              "my       825\n",
              "and      733\n",
              "do       618\n",
              "in       571\n",
              "that     523\n",
              "for      521\n",
              "of       482\n",
              "go       480\n",
              "m        474\n",
              "get      448\n",
              "me       432\n",
              "dtype: int64"
            ]
          },
          "metadata": {
            "tags": []
          },
          "execution_count": 89
        }
      ]
    },
    {
      "cell_type": "code",
      "metadata": {
        "id": "8qjNPX9yAO-V"
      },
      "source": [
        "df['twitts'] = df['twitts'].apply(lambda x: ' '.join([t for t in x.split() if t not in f20]))"
      ],
      "execution_count": null,
      "outputs": []
    },
    {
      "cell_type": "code",
      "metadata": {
        "colab": {
          "base_uri": "https://localhost:8080/",
          "height": 634
        },
        "id": "mDGxFXa6BT3g",
        "outputId": "3e1c6457-07dc-4b17-a1c5-8108b139d38a"
      },
      "source": [
        "df.sample(5)"
      ],
      "execution_count": null,
      "outputs": [
        {
          "output_type": "execute_result",
          "data": {
            "text/html": [
              "<div>\n",
              "<style scoped>\n",
              "    .dataframe tbody tr th:only-of-type {\n",
              "        vertical-align: middle;\n",
              "    }\n",
              "\n",
              "    .dataframe tbody tr th {\n",
              "        vertical-align: top;\n",
              "    }\n",
              "\n",
              "    .dataframe thead th {\n",
              "        text-align: right;\n",
              "    }\n",
              "</style>\n",
              "<table border=\"1\" class=\"dataframe\">\n",
              "  <thead>\n",
              "    <tr style=\"text-align: right;\">\n",
              "      <th></th>\n",
              "      <th>twitts</th>\n",
              "      <th>sentiment</th>\n",
              "      <th>word_counts</th>\n",
              "      <th>char_counts</th>\n",
              "      <th>avg_word_len</th>\n",
              "      <th>stop_words_len</th>\n",
              "      <th>hastag_count</th>\n",
              "      <th>mention_count</th>\n",
              "      <th>numeric_counts</th>\n",
              "      <th>upper_counts</th>\n",
              "      <th>emails</th>\n",
              "      <th>emails_count</th>\n",
              "      <th>url_flags</th>\n",
              "      <th>twitts_no_stop</th>\n",
              "    </tr>\n",
              "  </thead>\n",
              "  <tbody>\n",
              "    <tr>\n",
              "      <th>3799</th>\n",
              "      <td>giasierra hey mamacita how are ok well let kno...</td>\n",
              "      <td>1</td>\n",
              "      <td>23</td>\n",
              "      <td>100</td>\n",
              "      <td>4.347826</td>\n",
              "      <td>9</td>\n",
              "      <td>0</td>\n",
              "      <td>1</td>\n",
              "      <td>0</td>\n",
              "      <td>0</td>\n",
              "      <td>[]</td>\n",
              "      <td>0</td>\n",
              "      <td>0</td>\n",
              "      <td>giasierra hey mamacita ok let know wussup find...</td>\n",
              "    </tr>\n",
              "    <tr>\n",
              "      <th>3254</th>\n",
              "      <td>find 3 g carpark last night was happy</td>\n",
              "      <td>1</td>\n",
              "      <td>13</td>\n",
              "      <td>62</td>\n",
              "      <td>4.769231</td>\n",
              "      <td>4</td>\n",
              "      <td>0</td>\n",
              "      <td>0</td>\n",
              "      <td>0</td>\n",
              "      <td>3</td>\n",
              "      <td>[]</td>\n",
              "      <td>0</td>\n",
              "      <td>1</td>\n",
              "      <td>found 3g carpark night happy</td>\n",
              "    </tr>\n",
              "    <tr>\n",
              "      <th>2857</th>\n",
              "      <td>some feedback from client design project sound...</td>\n",
              "      <td>1</td>\n",
              "      <td>11</td>\n",
              "      <td>63</td>\n",
              "      <td>5.727273</td>\n",
              "      <td>4</td>\n",
              "      <td>0</td>\n",
              "      <td>0</td>\n",
              "      <td>0</td>\n",
              "      <td>0</td>\n",
              "      <td>[]</td>\n",
              "      <td>0</td>\n",
              "      <td>0</td>\n",
              "      <td>got feedback clients design projects sounds po...</td>\n",
              "    </tr>\n",
              "    <tr>\n",
              "      <th>2874</th>\n",
              "      <td>she make here safely yes talk about nikiterry ...</td>\n",
              "      <td>1</td>\n",
              "      <td>18</td>\n",
              "      <td>91</td>\n",
              "      <td>5.055556</td>\n",
              "      <td>7</td>\n",
              "      <td>0</td>\n",
              "      <td>1</td>\n",
              "      <td>0</td>\n",
              "      <td>0</td>\n",
              "      <td>[]</td>\n",
              "      <td>0</td>\n",
              "      <td>0</td>\n",
              "      <td>safely yes im talking nikiterry hanging boos t...</td>\n",
              "    </tr>\n",
              "    <tr>\n",
              "      <th>274</th>\n",
              "      <td>ate waaay too much gross cookie</td>\n",
              "      <td>0</td>\n",
              "      <td>6</td>\n",
              "      <td>27</td>\n",
              "      <td>4.500000</td>\n",
              "      <td>2</td>\n",
              "      <td>0</td>\n",
              "      <td>0</td>\n",
              "      <td>0</td>\n",
              "      <td>0</td>\n",
              "      <td>[]</td>\n",
              "      <td>0</td>\n",
              "      <td>0</td>\n",
              "      <td>ate waaay gross cookies</td>\n",
              "    </tr>\n",
              "  </tbody>\n",
              "</table>\n",
              "</div>"
            ],
            "text/plain": [
              "                                                 twitts  ...                                     twitts_no_stop\n",
              "3799  giasierra hey mamacita how are ok well let kno...  ...  giasierra hey mamacita ok let know wussup find...\n",
              "3254              find 3 g carpark last night was happy  ...                       found 3g carpark night happy\n",
              "2857  some feedback from client design project sound...  ...  got feedback clients design projects sounds po...\n",
              "2874  she make here safely yes talk about nikiterry ...  ...  safely yes im talking nikiterry hanging boos t...\n",
              "274                     ate waaay too much gross cookie  ...                            ate waaay gross cookies\n",
              "\n",
              "[5 rows x 14 columns]"
            ]
          },
          "metadata": {
            "tags": []
          },
          "execution_count": 91
        }
      ]
    },
    {
      "cell_type": "code",
      "metadata": {
        "id": "LfOWTxm2BVx3"
      },
      "source": [
        "rare20 = freq_comm.tail(20)"
      ],
      "execution_count": null,
      "outputs": []
    },
    {
      "cell_type": "code",
      "metadata": {
        "id": "g7E7w84FCCNX"
      },
      "source": [
        "df['twitts'] = df['twitts'].apply(lambda x: ' '.join([t for t in x.split() if t not in rare20]))"
      ],
      "execution_count": null,
      "outputs": []
    },
    {
      "cell_type": "code",
      "metadata": {
        "id": "skWe53LkCbUL"
      },
      "source": [
        "# Word Cloud Visualization\n",
        "from wordcloud import WordCloud\n",
        "import matplotlib.pyplot as plt\n",
        "%matplotlib inline"
      ],
      "execution_count": null,
      "outputs": []
    },
    {
      "cell_type": "code",
      "metadata": {
        "id": "35Xct9czDC0Q"
      },
      "source": [
        "text= ' '.join(text)"
      ],
      "execution_count": null,
      "outputs": []
    },
    {
      "cell_type": "code",
      "metadata": {
        "id": "iqmcCcfmDFD1"
      },
      "source": [
        "text = ' '.join(df['twitts'])"
      ],
      "execution_count": null,
      "outputs": []
    },
    {
      "cell_type": "code",
      "metadata": {
        "colab": {
          "base_uri": "https://localhost:8080/"
        },
        "id": "u3pjYwt9DZPg",
        "outputId": "7ceda851-8dd0-4c60-9b2b-7c6e3df79ca7"
      },
      "source": [
        "len(text)"
      ],
      "execution_count": null,
      "outputs": [
        {
          "output_type": "execute_result",
          "data": {
            "text/plain": [
              "220957"
            ]
          },
          "metadata": {
            "tags": []
          },
          "execution_count": 97
        }
      ]
    },
    {
      "cell_type": "code",
      "metadata": {
        "colab": {
          "base_uri": "https://localhost:8080/",
          "height": 197
        },
        "id": "yFzv4PP_Dbjm",
        "outputId": "cf9fed9e-8744-4e42-8527-daee5b18c9c9"
      },
      "source": [
        "wc = WordCloud(width=800,height=400).generate(text)\n",
        "plt.imshow(wc)\n",
        "plt.axis('off')\n",
        "plt.show()"
      ],
      "execution_count": null,
      "outputs": [
        {
          "output_type": "display_data",
          "data": {
            "image/png": "[encoded data removed]",
            "text/plain": [
              "<Figure size 432x288 with 1 Axes>"
            ]
          },
          "metadata": {
            "tags": [],
            "needs_background": "light"
          }
        }
      ]
    },
    {
      "cell_type": "code",
      "metadata": {
        "colab": {
          "base_uri": "https://localhost:8080/"
        },
        "id": "Is0BjajND9gg",
        "outputId": "9faf56bc-04e1-4cc1-f6cd-1fac84ba0120"
      },
      "source": [
        "!pip install -U textblob"
      ],
      "execution_count": null,
      "outputs": [
        {
          "output_type": "stream",
          "text": [
            "Requirement already up-to-date: textblob in /usr/local/lib/python3.6/dist-packages (0.15.3)\n",
            "Requirement already satisfied, skipping upgrade: nltk>=3.1 in /usr/local/lib/python3.6/dist-packages (from textblob) (3.2.5)\n",
            "Requirement already satisfied, skipping upgrade: six in /usr/local/lib/python3.6/dist-packages (from nltk>=3.1->textblob) (1.15.0)\n"
          ],
          "name": "stdout"
        }
      ]
    },
    {
      "cell_type": "code",
      "metadata": {
        "colab": {
          "base_uri": "https://localhost:8080/"
        },
        "id": "D7Ywma0qF1IE",
        "outputId": "44c56ac4-f16e-44f5-ffda-6b7e04aa4ecc"
      },
      "source": [
        "!python -m textblob.download_corpora"
      ],
      "execution_count": null,
      "outputs": [
        {
          "output_type": "stream",
          "text": [
            "[nltk_data] Downloading package brown to /root/nltk_data...\n",
            "[nltk_data]   Unzipping corpora/brown.zip.\n",
            "[nltk_data] Downloading package punkt to /root/nltk_data...\n",
            "[nltk_data]   Unzipping tokenizers/punkt.zip.\n",
            "[nltk_data] Downloading package wordnet to /root/nltk_data...\n",
            "[nltk_data]   Unzipping corpora/wordnet.zip.\n",
            "[nltk_data] Downloading package averaged_perceptron_tagger to\n",
            "[nltk_data]     /root/nltk_data...\n",
            "[nltk_data]   Unzipping taggers/averaged_perceptron_tagger.zip.\n",
            "[nltk_data] Downloading package conll2000 to /root/nltk_data...\n",
            "[nltk_data]   Unzipping corpora/conll2000.zip.\n",
            "[nltk_data] Downloading package movie_reviews to /root/nltk_data...\n",
            "[nltk_data]   Unzipping corpora/movie_reviews.zip.\n",
            "Finished.\n"
          ],
          "name": "stdout"
        }
      ]
    },
    {
      "cell_type": "code",
      "metadata": {
        "id": "X5U3Lx9JF1u3"
      },
      "source": [
        "#Spelling correction\n",
        "from textblob import TextBlob"
      ],
      "execution_count": null,
      "outputs": []
    },
    {
      "cell_type": "code",
      "metadata": {
        "id": "7ewrz4w9FJcF"
      },
      "source": [
        "x = 'thankks for watchings it'\n",
        "x = TextBlob(x).correct()"
      ],
      "execution_count": null,
      "outputs": []
    },
    {
      "cell_type": "code",
      "metadata": {
        "colab": {
          "base_uri": "https://localhost:8080/"
        },
        "id": "QdAJ50aRFUWJ",
        "outputId": "6dfeffdc-8a46-4b96-eab2-81749a45d686"
      },
      "source": [
        "x"
      ],
      "execution_count": null,
      "outputs": [
        {
          "output_type": "execute_result",
          "data": {
            "text/plain": [
              "TextBlob(\"thanks for watching it\")"
            ]
          },
          "metadata": {
            "tags": []
          },
          "execution_count": 103
        }
      ]
    },
    {
      "cell_type": "code",
      "metadata": {
        "colab": {
          "base_uri": "https://localhost:8080/"
        },
        "id": "GCitdRDVFcFw",
        "outputId": "b8962d71-a064-43e4-d4a3-15b4d987838a"
      },
      "source": [
        "#Tokenization with TextBlob\n",
        "x = 'thanks#watching this video. please like it'\n",
        "TextBlob(x).words\n"
      ],
      "execution_count": null,
      "outputs": [
        {
          "output_type": "execute_result",
          "data": {
            "text/plain": [
              "WordList(['thanks', 'watching', 'this', 'video', 'please', 'like', 'it'])"
            ]
          },
          "metadata": {
            "tags": []
          },
          "execution_count": 104
        }
      ]
    },
    {
      "cell_type": "code",
      "metadata": {
        "colab": {
          "base_uri": "https://localhost:8080/"
        },
        "id": "YgvI_wpIYub0",
        "outputId": "16935381-29cf-4750-eab1-cb0c939d42a8"
      },
      "source": [
        "doc =nlp(x)\n",
        "for token in doc:\n",
        "  print(token)"
      ],
      "execution_count": null,
      "outputs": [
        {
          "output_type": "stream",
          "text": [
            "thanks#watching\n",
            "this\n",
            "video\n",
            ".\n",
            "please\n",
            "like\n",
            "it\n"
          ],
          "name": "stdout"
        }
      ]
    },
    {
      "cell_type": "code",
      "metadata": {
        "id": "Fg9zchcVY9ru"
      },
      "source": [
        "#Detecting Nouns\n",
        "x = 'Breaking News: Donald Trump, the president of USA, is going to sign the bilateral agreement.'"
      ],
      "execution_count": null,
      "outputs": []
    },
    {
      "cell_type": "code",
      "metadata": {
        "id": "sHTg5i3hZ5Zt"
      },
      "source": [
        "doc = nlp(x)"
      ],
      "execution_count": null,
      "outputs": []
    },
    {
      "cell_type": "code",
      "metadata": {
        "colab": {
          "base_uri": "https://localhost:8080/"
        },
        "id": "7_z30CjPZ7zN",
        "outputId": "08a4af25-c3f4-40bf-94fa-8f48c5b49a00"
      },
      "source": [
        "for noun in doc.noun_chunks:\n",
        "  print(noun)"
      ],
      "execution_count": null,
      "outputs": [
        {
          "output_type": "stream",
          "text": [
            "Breaking News\n",
            "Donald Trump\n",
            "the president\n",
            "USA\n",
            "the bilateral agreement\n"
          ],
          "name": "stdout"
        }
      ]
    },
    {
      "cell_type": "code",
      "metadata": {
        "colab": {
          "base_uri": "https://localhost:8080/",
          "height": 35
        },
        "id": "nuXetSdnaOig",
        "outputId": "d67872a8-a3d5-45cc-9c85-389758cb3bc5"
      },
      "source": [
        "# Language Translation/Detection\n",
        "tb = TextBlob(x)\n",
        "tb.detect_language()"
      ],
      "execution_count": null,
      "outputs": [
        {
          "output_type": "execute_result",
          "data": {
            "application/vnd.google.colaboratory.intrinsic+json": {
              "type": "string"
            },
            "text/plain": [
              "'en'"
            ]
          },
          "metadata": {
            "tags": []
          },
          "execution_count": 109
        }
      ]
    },
    {
      "cell_type": "code",
      "metadata": {
        "colab": {
          "base_uri": "https://localhost:8080/"
        },
        "id": "G-kwzNScazKP",
        "outputId": "7f502890-d1ef-4d15-ba2a-d16126a7a986"
      },
      "source": [
        "tb.translate(to= 'bn')"
      ],
      "execution_count": null,
      "outputs": [
        {
          "output_type": "execute_result",
          "data": {
            "text/plain": [
              "TextBlob(\"ব্রেকিং নিউজ: দ্বিপাক্ষিক চুক্তিতে স্বাক্ষর করতে চলেছেন মার্কিন প্রেসিডেন্ট ডোনাল্ড ট্রাম্প।\")"
            ]
          },
          "metadata": {
            "tags": []
          },
          "execution_count": 110
        }
      ]
    },
    {
      "cell_type": "code",
      "metadata": {
        "colab": {
          "base_uri": "https://localhost:8080/",
          "height": 35
        },
        "id": "LYdTBe3XbC0Q",
        "outputId": "429249af-1b0d-48e2-896e-f44cc46dce31"
      },
      "source": [
        "y = 'Bibhas Giri'\n",
        "tb = TextBlob(y)\n",
        "tb.detect_language()"
      ],
      "execution_count": null,
      "outputs": [
        {
          "output_type": "execute_result",
          "data": {
            "application/vnd.google.colaboratory.intrinsic+json": {
              "type": "string"
            },
            "text/plain": [
              "'bn'"
            ]
          },
          "metadata": {
            "tags": []
          },
          "execution_count": 111
        }
      ]
    },
    {
      "cell_type": "code",
      "metadata": {
        "colab": {
          "base_uri": "https://localhost:8080/"
        },
        "id": "oPl6rrtqbgoz",
        "outputId": "d2135120-a78f-4578-a9d3-e4e0d8eee968"
      },
      "source": [
        "tb.translate(to='hi')"
      ],
      "execution_count": null,
      "outputs": [
        {
          "output_type": "execute_result",
          "data": {
            "text/plain": [
              "TextBlob(\"बिभास गिरी\")"
            ]
          },
          "metadata": {
            "tags": []
          },
          "execution_count": 112
        }
      ]
    },
    {
      "cell_type": "code",
      "metadata": {
        "id": "rRSSOrcGbt7D"
      },
      "source": [
        "#Use TextBlob's Inbuilt Sentiment Classifier\n",
        "from textblob.sentiments import NaiveBayesAnalyzer"
      ],
      "execution_count": null,
      "outputs": []
    },
    {
      "cell_type": "code",
      "metadata": {
        "id": "fMZfIs26c4jH"
      },
      "source": [
        "x = 'We all stands together. we are gonna win this fight.'"
      ],
      "execution_count": null,
      "outputs": []
    },
    {
      "cell_type": "code",
      "metadata": {
        "id": "-XZZ_LnSdAAT"
      },
      "source": [
        "tb = TextBlob(x, analyzer=NaiveBayesAnalyzer()).sentiment"
      ],
      "execution_count": null,
      "outputs": []
    },
    {
      "cell_type": "code",
      "metadata": {
        "colab": {
          "base_uri": "https://localhost:8080/"
        },
        "id": "LjH3hGuhdKRi",
        "outputId": "c59efdaf-962d-4c53-f909-b3ef7bf32dbf"
      },
      "source": [
        "tb"
      ],
      "execution_count": null,
      "outputs": [
        {
          "output_type": "execute_result",
          "data": {
            "text/plain": [
              "Sentiment(classification='pos', p_pos=0.9180581552428241, p_neg=0.0819418447571765)"
            ]
          },
          "metadata": {
            "tags": []
          },
          "execution_count": 116
        }
      ]
    },
    {
      "cell_type": "code",
      "metadata": {
        "id": "mIo0Hh7RdMVn"
      },
      "source": [
        ""
      ],
      "execution_count": null,
      "outputs": []
    }
  ]
}